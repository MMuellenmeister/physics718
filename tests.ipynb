{
 "cells": [
  {
   "cell_type": "markdown",
   "metadata": {},
   "source": [
    "## General Test if install is working for current physics718 specs\r\n"
   ]
  },
  {
   "cell_type": "code",
   "execution_count": 1,
   "metadata": {},
   "outputs": [
    {
     "name": "stdout",
     "output_type": "stream",
     "text": [
      ".  \n",
      "===============Test import paths===============\n",
      ".  \n",
      "d:\\Dateien\\Uni\\MasterVL\\ProgrammingInPhysics\\ex\\physics718_exercises\n",
      "c:\\Users\\Markus\\.vscode\\extensions\\ms-toolsai.jupyter-2021.6.999662501\\pythonFiles\n",
      "c:\\Users\\Markus\\.vscode\\extensions\\ms-toolsai.jupyter-2021.6.999662501\\pythonFiles\\lib\\python\n",
      "D:\\Programme\\Python3_8_MiniConda\\envs\\TF2_5\\python39.zip\n",
      "D:\\Programme\\Python3_8_MiniConda\\envs\\TF2_5\\DLLs\n",
      "D:\\Programme\\Python3_8_MiniConda\\envs\\TF2_5\\lib\n",
      "D:\\Programme\\Python3_8_MiniConda\\envs\\TF2_5\n",
      "\n",
      "D:\\Programme\\Python3_8_MiniConda\\envs\\TF2_5\\lib\\site-packages\n",
      "D:\\Programme\\Python3_8_MiniConda\\envs\\TF2_5\\lib\\site-packages\\win32\n",
      "D:\\Programme\\Python3_8_MiniConda\\envs\\TF2_5\\lib\\site-packages\\win32\\lib\n",
      "D:\\Programme\\Python3_8_MiniConda\\envs\\TF2_5\\lib\\site-packages\\Pythonwin\n",
      "D:\\Programme\\Python3_8_MiniConda\\envs\\TF2_5\\lib\\site-packages\\IPython\\extensions\n",
      "C:\\Users\\Markus\\.ipython\n",
      ".  \n",
      "===============  Test packages  ===============\n",
      ".  \n",
      "pandas     version: 1.2.5\n",
      "numpy      version: 1.19.5\n",
      "tensorflow version: 2.5.0\n",
      "keras      version: 2.5.0\n",
      "sk-learn   version: 0.24.2\n",
      "\n",
      "keras test:\n",
      "done\n",
      "\n",
      "pandas test:\n",
      "<class 'pandas.core.frame.DataFrame'>\n",
      "RangeIndex: 3 entries, 0 to 2\n",
      "Data columns (total 3 columns):\n",
      " #   Column  Non-Null Count  Dtype \n",
      "---  ------  --------------  ----- \n",
      " 0   name    3 non-null      object\n",
      " 1    age    3 non-null      int64 \n",
      " 2    id     3 non-null      int64 \n",
      "dtypes: int64(2), object(1)\n",
      "memory usage: 200.0+ bytes\n",
      "done\n"
     ]
    }
   ],
   "source": [
    "import numpy as np\r\n",
    "import tensorflow as tf\r\n",
    "import tensorflow.keras as keras\r\n",
    "import pandas as pd\r\n",
    "import sklearn\r\n",
    "\r\n",
    "\r\n",
    "print(\".  \")\r\n",
    "print(\"===============Test import paths===============\")\r\n",
    "print(\".  \")\r\n",
    "for path in sys.path:\r\n",
    "    print(path)\r\n",
    "\r\n",
    "print(\".  \")\r\n",
    "print(\"===============  Test packages  ===============\")\r\n",
    "print(\".  \")\r\n",
    "print(\"pandas     version:\",pd.__version__)\r\n",
    "print(\"numpy      version:\",np.__version__)\r\n",
    "print(\"tensorflow version:\",tf.__version__)\r\n",
    "print(\"keras      version:\",keras.__version__)\r\n",
    "print(\"sk-learn   version:\", sklearn.__version__)\r\n",
    "\r\n",
    "print(\"\")\r\n",
    "print(\"keras test:\")\r\n",
    "input = tf.keras.Input(shape=(3,))\r\n",
    "print(\"done\")\r\n",
    "print(\"\")\r\n",
    "print(\"pandas test:\")\r\n",
    "df= pd.read_csv(\"test.csv\")\r\n",
    "df.info()\r\n",
    "print(\"done\")"
   ]
  },
  {
   "cell_type": "markdown",
   "metadata": {},
   "source": [
    "## Benchmark keras for different envs\r\n",
    "\r\n",
    "writes to file `benchmark.txt` with score and current environment. appends results. does not delete previous entries."
   ]
  },
  {
   "cell_type": "code",
   "execution_count": 12,
   "metadata": {},
   "outputs": [
    {
     "name": "stdout",
     "output_type": "stream",
     "text": [
      "WARNING:tensorflow:Please add `keras.layers.InputLayer` instead of `keras.Input` to Sequential model. `keras.Input` is intended to be used by Functional model.\n",
      "com time: 2.55 ms ± 264 µs per loop (mean ± std. dev. of 5 runs, 2 loops each)\n",
      "fit time: 3min 44s ± 2.99 s per loop (mean ± std. dev. of 5 runs, 2 loops each)\n",
      "WARNING:tensorflow:Please add `keras.layers.InputLayer` instead of `keras.Input` to Sequential model. `keras.Input` is intended to be used by Functional model.\n",
      "com time: 2.72 ms ± 252 µs per loop (mean ± std. dev. of 5 runs, 2 loops each)\n",
      "fit time: 4min 30s ± 5 s per loop (mean ± std. dev. of 5 runs, 2 loops each)\n"
     ]
    }
   ],
   "source": [
    "import sys\r\n",
    "\r\n",
    "import tensorflow as tf\r\n",
    "import numpy as np\r\n",
    "import pandas as pd\r\n",
    "import tensorflow.keras as keras\r\n",
    "\r\n",
    "from sklearn.preprocessing import StandardScaler\r\n",
    "from sklearn.model_selection import train_test_split\r\n",
    "\r\n",
    "from tensorflow.keras import layers as layers\r\n",
    "from tensorflow.keras import Sequential as Sequential\r\n",
    "\r\n",
    "#env name\r\n",
    "current_env = sys.executable\r\n",
    "\r\n",
    "#pandas part\r\n",
    "df_all = pd.read_csv(\"exercise05/train.csv\")#\r\n",
    "\r\n",
    "tag_list = list(df_all.columns.values)\r\n",
    "tag_list.remove('signal')\r\n",
    "goal= 'signal'\r\n",
    "\r\n",
    "scaler = StandardScaler()\r\n",
    "df_all[tag_list] = scaler.fit_transform(df_all[tag_list])\r\n",
    "df_train, df_test = train_test_split(df_all, test_size=0.25)\r\n",
    "\r\n",
    "#keras part\r\n",
    "k_comp_time_cpu = 0\r\n",
    "k_comp_time_gpu = 0\r\n",
    "k_fit_time_cpu = 0\r\n",
    "k_fit_time_gpu = 0\r\n",
    "enmsg=\"\"\r\n",
    "with tf.device(\"cpu:0\"):\r\n",
    "    model = Sequential([\r\n",
    "        layers.Input(shape=(32,)),\r\n",
    "        layers.Dense(500, activation=\"relu\"),\r\n",
    "        layers.BatchNormalization(axis=1),\r\n",
    "        layers.Dense(500, activation=\"relu\"),\r\n",
    "        layers.BatchNormalization(axis=1),\r\n",
    "        layers.Dense(500, activation=\"relu\"),\r\n",
    "        layers.BatchNormalization(axis=1),\r\n",
    "        layers.Dense(500, activation=\"relu\"),\r\n",
    "        layers.BatchNormalization(axis=1),\r\n",
    "        layers.Dense(1, activation=\"sigmoid\")\r\n",
    "        ])\r\n",
    "    k_comp_time_cpu = %timeit -n2 -r5 -q -o model.compile(optimizer=\"adam\", loss='mean_squared_error') \r\n",
    "    print(\"com time:\",k_comp_time_cpu)\r\n",
    "    k_fit_time_cpu = %timeit -n2 -r5 -q -o model.fit(df_train[tag_list],df_train[goal],epochs=200,verbose=0)\r\n",
    "    print(\"fit time:\",k_fit_time_cpu)\r\n",
    "\r\n",
    "try:\r\n",
    "    with tf.device(\"gpu:0\"):\r\n",
    "        model = Sequential([\r\n",
    "            layers.Input(shape=(32,)),\r\n",
    "            layers.Dense(500, activation=\"relu\"),\r\n",
    "            layers.BatchNormalization(axis=1),\r\n",
    "            layers.Dense(500, activation=\"relu\"),\r\n",
    "            layers.BatchNormalization(axis=1),\r\n",
    "            layers.Dense(500, activation=\"relu\"),\r\n",
    "            layers.BatchNormalization(axis=1),\r\n",
    "            layers.Dense(500, activation=\"relu\"),\r\n",
    "            layers.BatchNormalization(axis=1),\r\n",
    "            layers.Dense(1, activation=\"sigmoid\")\r\n",
    "            ])\r\n",
    "        k_comp_time_gpu = %timeit -n2 -r5 -q -o model.compile(optimizer=\"adam\", loss='mean_squared_error') \r\n",
    "        print(\"com time:\",k_comp_time_gpu)\r\n",
    "        k_fit_time_gpu = %timeit -n2 -r5 -q -o model.fit(df_train[tag_list],df_train[goal],epochs=200,verbose=0)\r\n",
    "        print(\"fit time:\",k_fit_time_gpu)\r\n",
    "except:\r\n",
    "    enmsg= \"Error: could not run on gpu\"\r\n",
    "#\"\"\"\r\n",
    "with open(\"benchmark.txt\", \"a\") as f:\r\n",
    "    f.write(\"score for environment \\\"\"+str(current_env)+\"\\\":\\n\")\r\n",
    "    f.write(\"    keras time: \\n\")\r\n",
    "    f.write(\"       cpu: \\n\")\r\n",
    "    f.write(\"       model_compillation time: \"+ str(k_comp_time_cpu) + \"\\n\")\r\n",
    "    f.write(\"       model_fitting      time: \"+ str(k_fit_time_cpu) + \"\\n\")\r\n",
    "    f.write(\"       gpu: \"+enmsg+\"\\n\")\r\n",
    "    f.write(\"       model_compillation time: \"+ str(k_comp_time_gpu) + \"\\n\")\r\n",
    "    f.write(\"       model_fitting      time: \"+ str(k_fit_time_gpu) + \"\\n\")\r\n",
    "\r\n",
    "    f.write(\"\\n\")\r\n",
    "#\"\"\""
   ]
  },
  {
   "cell_type": "code",
   "execution_count": 1,
   "metadata": {},
   "outputs": [
    {
     "name": "stdout",
     "output_type": "stream",
     "text": [
      "D:\\Programme\\Python3_8_MiniConda\\envs\\TF2_5\\python.exe\n"
     ]
    }
   ],
   "source": [
    "import sys\r\n",
    "print(sys.executable)"
   ]
  },
  {
   "cell_type": "code",
   "execution_count": 10,
   "metadata": {},
   "outputs": [
    {
     "name": "stdout",
     "output_type": "stream",
     "text": [
      "[PhysicalDevice(name='/physical_device:GPU:0', device_type='GPU')]\n",
      "[name: \"/device:CPU:0\"\n",
      "device_type: \"CPU\"\n",
      "memory_limit: 268435456\n",
      "locality {\n",
      "}\n",
      "incarnation: 5970362631684422539\n",
      ", name: \"/device:GPU:0\"\n",
      "device_type: \"GPU\"\n",
      "memory_limit: 6961823744\n",
      "locality {\n",
      "  bus_id: 1\n",
      "  links {\n",
      "  }\n",
      "}\n",
      "incarnation: 10034774384457527339\n",
      "physical_device_desc: \"device: 0, name: NVIDIA GeForce GTX 1070, pci bus id: 0000:01:00.0, compute capability: 6.1\"\n",
      "]\n"
     ]
    }
   ],
   "source": [
    "import tensorflow as tf\r\n",
    "print(tf.config.list_physical_devices('GPU'))\r\n",
    "from tensorflow.python.client import device_lib\r\n",
    "print(device_lib.list_local_devices())\r\n",
    "\r\n",
    "#from keras import backend \r\n",
    "#backend.tensorflow_backend._get_available_gpus()"
   ]
  }
 ],
 "metadata": {
  "interpreter": {
   "hash": "c7ed0d4505f5c5fddf6a872a700a41494a8e78f563e4faa0d2bb14c1d28b44e1"
  },
  "kernelspec": {
   "display_name": "Python 3.9.5 64-bit",
   "name": "tf-2.5"
  },
  "language_info": {
   "codemirror_mode": {
    "name": "ipython",
    "version": 3
   },
   "file_extension": ".py",
   "mimetype": "text/x-python",
   "name": "python",
   "nbconvert_exporter": "python",
   "pygments_lexer": "ipython3",
   "version": "3.9.5"
  },
  "orig_nbformat": 4
 },
 "nbformat": 4,
 "nbformat_minor": 2
}