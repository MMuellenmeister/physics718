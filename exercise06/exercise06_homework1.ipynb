{
 "metadata": {
  "language_info": {
   "codemirror_mode": {
    "name": "ipython",
    "version": 3
   },
   "file_extension": ".py",
   "mimetype": "text/x-python",
   "name": "python",
   "nbconvert_exporter": "python",
   "pygments_lexer": "ipython3",
   "version": "3.7.10"
  },
  "orig_nbformat": 4,
  "kernelspec": {
   "name": "python3",
   "display_name": "Python 3.7.10 64-bit ('physics718': conda)"
  },
  "interpreter": {
   "hash": "5948b549e4298be7ebe0a84d132ff535d6fd9e46b0fbc7e8cc404faf05ab3cd6"
  }
 },
 "nbformat": 4,
 "nbformat_minor": 2,
 "cells": [
  {
   "cell_type": "code",
   "execution_count": null,
   "metadata": {},
   "outputs": [],
   "source": [
    "import numpy as np\n",
    "import pandas as pd"
   ]
  },
  {
   "cell_type": "code",
   "execution_count": null,
   "metadata": {},
   "outputs": [],
   "source": [
    "df = pd.read_csv(\"train_housePrice.csv\")\n",
    "\n",
    "def preprocessDataFrame(df):\n",
    "    df['garage'] = df['garage'].fillna(0)\n",
    "    df['yrremodeled'] = df['yrremodeled'].fillna(0)\n",
    "\n",
    "    # replace string label by numberical label\n",
    "    dic = {'Farm': 1, 'Ranch':2, 'Cottage': 3, 'Town':4, 'Detached':5, 'Bungalow':6}\n",
    "\n",
    "    df['housetype'] = df['housetype'].map(dic)\n",
    "\n",
    "preprocessDataFrame(df)\n"
   ]
  },
  {
   "cell_type": "code",
   "execution_count": null,
   "metadata": {},
   "outputs": [],
   "source": [
    "from sklearn.preprocessing import QuantileTransformer\n",
    "\n",
    "trafo = QuantileTransformer()\n",
    "target_trafo = QuantileTransformer()\n",
    "\n",
    "cols = df.drop(\"price\", axis=1).columns\n",
    "\n",
    "X = trafo.fit_transform(df.drop(\"price\", axis=1))\n",
    "Y = target_trafo.fit_transform(df[\"price\"].to_numpy().reshape((len(df), 1)))"
   ]
  },
  {
   "cell_type": "code",
   "execution_count": null,
   "metadata": {},
   "outputs": [],
   "source": [
    "from sklearn.model_selection import train_test_split\n",
    "\n",
    "Xtrain, Xtest, Ytrain, Ytest = train_test_split(X, Y, random_state=42, test_size=0.2)"
   ]
  },
  {
   "cell_type": "code",
   "execution_count": null,
   "metadata": {},
   "outputs": [],
   "source": [
    "def Score(yPred, yTest, doReTransform=True):\n",
    "    if doReTransform:\n",
    "        yPred2 = target_trafo.inverse_transform(yPred)\n",
    "        yTest2 = target_trafo.inverse_transform(yTest)\n",
    "        return np.mean(np.abs((yPred2-yTest2)/yPred2))\n",
    "        \n",
    "    return np.mean(np.abs((yPred-yTest)/yPred))"
   ]
  },
  {
   "cell_type": "code",
   "execution_count": null,
   "metadata": {},
   "outputs": [],
   "source": []
  }
 ]
}