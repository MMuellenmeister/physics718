{
 "metadata": {
  "language_info": {
   "codemirror_mode": {
    "name": "ipython",
    "version": 3
   },
   "file_extension": ".py",
   "mimetype": "text/x-python",
   "name": "python",
   "nbconvert_exporter": "python",
   "pygments_lexer": "ipython3",
   "version": "3.7.10"
  },
  "orig_nbformat": 4,
  "kernelspec": {
   "name": "python3",
   "display_name": "Python 3.7.10 64-bit ('physics718': conda)"
  },
  "interpreter": {
   "hash": "5948b549e4298be7ebe0a84d132ff535d6fd9e46b0fbc7e8cc404faf05ab3cd6"
  }
 },
 "nbformat": 4,
 "nbformat_minor": 2,
 "cells": [
  {
   "cell_type": "code",
   "execution_count": 1,
   "metadata": {},
   "outputs": [],
   "source": [
    "import numpy as np\n",
    "import pandas as pd\n",
    "\n",
    "from sklearn.preprocessing import  QuantileTransformer"
   ]
  },
  {
   "cell_type": "code",
   "execution_count": 10,
   "metadata": {},
   "outputs": [],
   "source": [
    "# this function calculates a simple score to evaluate the performance of your neural network\n",
    "def SimpleScore(model, xtest, ytest):\n",
    "    pred = model.predict(xtest)\n",
    "\n",
    "    if (pred.shape != ytest.shape): # important! prevents broadcasting\n",
    "        pred=pred.reshape(ytest.shape) \n",
    "\n",
    "    diff = np.abs(pred - np.clip(ytest,0,1))\n",
    "    \n",
    "    return np.mean(np.less(diff,0.5))  "
   ]
  }
 ]
}