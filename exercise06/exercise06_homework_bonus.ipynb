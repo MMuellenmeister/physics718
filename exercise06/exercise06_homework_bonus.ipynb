{
 "cells": [
  {
   "cell_type": "code",
   "execution_count": 1,
   "metadata": {},
   "outputs": [],
   "source": [
    "import pandas as pd\n",
    "import numpy as np"
   ]
  },
  {
   "cell_type": "code",
   "execution_count": 2,
   "metadata": {},
   "outputs": [
    {
     "name": "stdout",
     "output_type": "stream",
     "text": [
      "(20000, 7) (20000, 1)\n"
     ]
    }
   ],
   "source": [
    "def GetData(df):\n",
    "    cols = df.columns[:-1]\n",
    "    X = df[cols].to_numpy()\n",
    "    Y=df['signal'].to_numpy().reshape((len(df),1))\n",
    "    return X,Y\n",
    "\n",
    "xtrain, ytrain = GetData(pd.read_csv(\"train_bonus.csv\"))\n",
    "xtest, ytest   = GetData(pd.read_csv(\"test_bonus.csv\"))\n",
    "\n",
    "print(xtrain.shape, ytrain.shape)"
   ]
  },
  {
   "cell_type": "code",
   "execution_count": 3,
   "metadata": {},
   "outputs": [],
   "source": [
    "import tensorflow.keras as keras\r\n",
    "import tensorflow.keras.layers as layers\r\n",
    "from tensorflow.keras import Sequential\r\n",
    "from tensorflow.keras.callbacks import EarlyStopping\r\n",
    "\r\n",
    "early_stop = EarlyStopping(monitor=\"val_loss\", patience=5, restore_best_weights=True)\r\n",
    "\r\n",
    "def SimpleScore(pred, ytest):\r\n",
    "    if (pred.shape != ytest.shape): \r\n",
    "        pred=pred.reshape(ytest.shape) # important! prevents broadcasting\r\n",
    "    diff = np.abs(pred - np.clip(ytest,0,1))\r\n",
    "    return np.mean(np.less(diff,0.5))  "
   ]
  },
  {
   "cell_type": "code",
   "execution_count": 4,
   "metadata": {},
   "outputs": [
    {
     "name": "stdout",
     "output_type": "stream",
     "text": [
      "Epoch 1/30\n",
      "1250/1250 [==============================] - 3s 2ms/step - loss: 0.6977 - val_loss: 0.6938\n",
      "Epoch 2/30\n",
      "1250/1250 [==============================] - 3s 2ms/step - loss: 0.6958 - val_loss: 0.6961\n",
      "Epoch 3/30\n",
      "1250/1250 [==============================] - 3s 2ms/step - loss: 0.6960 - val_loss: 0.6941\n",
      "Epoch 4/30\n",
      "1250/1250 [==============================] - 2s 2ms/step - loss: 0.6952 - val_loss: 0.6931\n",
      "Epoch 5/30\n",
      "1250/1250 [==============================] - 3s 2ms/step - loss: 0.6954 - val_loss: 0.6931\n",
      "Epoch 6/30\n",
      "1250/1250 [==============================] - 3s 2ms/step - loss: 0.6951 - val_loss: 0.6944\n",
      "Epoch 7/30\n",
      "1250/1250 [==============================] - 3s 2ms/step - loss: 0.6946 - val_loss: 0.6932\n",
      "Epoch 8/30\n",
      "1250/1250 [==============================] - 3s 2ms/step - loss: 0.6940 - val_loss: 0.6930\n",
      "Epoch 9/30\n",
      "1250/1250 [==============================] - 3s 2ms/step - loss: 0.6941 - val_loss: 0.6939\n",
      "Epoch 10/30\n",
      "1250/1250 [==============================] - 3s 2ms/step - loss: 0.6938 - val_loss: 0.6940\n",
      "Epoch 11/30\n",
      "1250/1250 [==============================] - 3s 2ms/step - loss: 0.6937 - val_loss: 0.6931\n",
      "Epoch 12/30\n",
      "1250/1250 [==============================] - 3s 2ms/step - loss: 0.6935 - val_loss: 0.6940\n",
      "Epoch 13/30\n",
      "1250/1250 [==============================] - 3s 2ms/step - loss: 0.6936 - val_loss: 0.6931\n",
      "test score 0.5101020204040808 train score 0.50415\n"
     ]
    }
   ],
   "source": [
    "# this is a start point of your analysis, ... but not a good one\n",
    "model = Sequential([\n",
    "    layers.Dense(100, activation=\"sigmoid\"),\n",
    "    layers.Dense(100, activation=\"sigmoid\"),\n",
    "    layers.Dense(1, activation=\"sigmoid\")\n",
    "    ])\n",
    "\n",
    "model.compile(optimizer=\"adam\", loss='binary_crossentropy') \n",
    "model.fit(xtrain, ytrain, epochs=30, verbose=1, batch_size=16, validation_data=(xtest, ytest), callbacks=[early_stop])\n",
    "\n",
    "print(\"test score\", SimpleScore(model.predict(xtest),ytest), \"train score\", SimpleScore(model.predict(xtrain),ytrain))"
   ]
  },
  {
   "cell_type": "markdown",
   "metadata": {},
   "source": [
    "## I wasn't very successfull"
   ]
  },
  {
   "cell_type": "code",
   "execution_count": 5,
   "metadata": {},
   "outputs": [
    {
     "name": "stdout",
     "output_type": "stream",
     "text": [
      "Fitting 2 folds for each of 3 candidates, totalling 6 fits\n"
     ]
    },
    {
     "name": "stderr",
     "output_type": "stream",
     "text": [
      "C:\\Users\\Markus\\AppData\\Roaming\\Python\\Python37\\site-packages\\tensorflow\\python\\keras\\engine\\sequential.py:455: UserWarning: `model.predict_classes()` is deprecated and will be removed after 2021-01-01. Please use instead:* `np.argmax(model.predict(x), axis=-1)`,   if your model does multi-class classification   (e.g. if it uses a `softmax` last-layer activation).* `(model.predict(x) > 0.5).astype(\"int32\")`,   if your model does binary classification   (e.g. if it uses a `sigmoid` last-layer activation).\n",
      "  warnings.warn('`model.predict_classes()` is deprecated and '\n"
     ]
    },
    {
     "name": "stdout",
     "output_type": "stream",
     "text": [
      "[CV] END act_method=['relu', 'relu', 'relu', 'relu', 'sigmoid'], batchnormalize=True, input_shape=7, layer_number=[1000, 750, 500, 250], loss=binary_crossentropy, optimizer=adam; total time=  38.5s\n"
     ]
    },
    {
     "name": "stderr",
     "output_type": "stream",
     "text": [
      "C:\\Users\\Markus\\AppData\\Roaming\\Python\\Python37\\site-packages\\tensorflow\\python\\keras\\engine\\sequential.py:455: UserWarning: `model.predict_classes()` is deprecated and will be removed after 2021-01-01. Please use instead:* `np.argmax(model.predict(x), axis=-1)`,   if your model does multi-class classification   (e.g. if it uses a `softmax` last-layer activation).* `(model.predict(x) > 0.5).astype(\"int32\")`,   if your model does binary classification   (e.g. if it uses a `sigmoid` last-layer activation).\n",
      "  warnings.warn('`model.predict_classes()` is deprecated and '\n"
     ]
    },
    {
     "name": "stdout",
     "output_type": "stream",
     "text": [
      "[CV] END act_method=['relu', 'relu', 'relu', 'relu', 'sigmoid'], batchnormalize=True, input_shape=7, layer_number=[1000, 750, 500, 250], loss=binary_crossentropy, optimizer=adam; total time=  38.4s\n"
     ]
    },
    {
     "name": "stderr",
     "output_type": "stream",
     "text": [
      "C:\\Users\\Markus\\AppData\\Roaming\\Python\\Python37\\site-packages\\tensorflow\\python\\keras\\engine\\sequential.py:455: UserWarning: `model.predict_classes()` is deprecated and will be removed after 2021-01-01. Please use instead:* `np.argmax(model.predict(x), axis=-1)`,   if your model does multi-class classification   (e.g. if it uses a `softmax` last-layer activation).* `(model.predict(x) > 0.5).astype(\"int32\")`,   if your model does binary classification   (e.g. if it uses a `sigmoid` last-layer activation).\n",
      "  warnings.warn('`model.predict_classes()` is deprecated and '\n"
     ]
    },
    {
     "name": "stdout",
     "output_type": "stream",
     "text": [
      "[CV] END act_method=['relu', 'relu', 'relu', 'relu', 'sigmoid'], batchnormalize=True, input_shape=7, layer_number=[750, 500, 250, 100], loss=binary_crossentropy, optimizer=adam; total time=  39.2s\n"
     ]
    },
    {
     "name": "stderr",
     "output_type": "stream",
     "text": [
      "C:\\Users\\Markus\\AppData\\Roaming\\Python\\Python37\\site-packages\\tensorflow\\python\\keras\\engine\\sequential.py:455: UserWarning: `model.predict_classes()` is deprecated and will be removed after 2021-01-01. Please use instead:* `np.argmax(model.predict(x), axis=-1)`,   if your model does multi-class classification   (e.g. if it uses a `softmax` last-layer activation).* `(model.predict(x) > 0.5).astype(\"int32\")`,   if your model does binary classification   (e.g. if it uses a `sigmoid` last-layer activation).\n",
      "  warnings.warn('`model.predict_classes()` is deprecated and '\n"
     ]
    },
    {
     "name": "stdout",
     "output_type": "stream",
     "text": [
      "[CV] END act_method=['relu', 'relu', 'relu', 'relu', 'sigmoid'], batchnormalize=True, input_shape=7, layer_number=[750, 500, 250, 100], loss=binary_crossentropy, optimizer=adam; total time=  39.3s\n"
     ]
    },
    {
     "name": "stderr",
     "output_type": "stream",
     "text": [
      "C:\\Users\\Markus\\AppData\\Roaming\\Python\\Python37\\site-packages\\tensorflow\\python\\keras\\engine\\sequential.py:455: UserWarning: `model.predict_classes()` is deprecated and will be removed after 2021-01-01. Please use instead:* `np.argmax(model.predict(x), axis=-1)`,   if your model does multi-class classification   (e.g. if it uses a `softmax` last-layer activation).* `(model.predict(x) > 0.5).astype(\"int32\")`,   if your model does binary classification   (e.g. if it uses a `sigmoid` last-layer activation).\n",
      "  warnings.warn('`model.predict_classes()` is deprecated and '\n"
     ]
    },
    {
     "name": "stdout",
     "output_type": "stream",
     "text": [
      "[CV] END act_method=['relu', 'relu', 'relu', 'relu', 'sigmoid'], batchnormalize=True, input_shape=7, layer_number=[500, 500, 500, 500], loss=binary_crossentropy, optimizer=adam; total time=  39.3s\n"
     ]
    },
    {
     "name": "stderr",
     "output_type": "stream",
     "text": [
      "C:\\Users\\Markus\\AppData\\Roaming\\Python\\Python37\\site-packages\\tensorflow\\python\\keras\\engine\\sequential.py:455: UserWarning: `model.predict_classes()` is deprecated and will be removed after 2021-01-01. Please use instead:* `np.argmax(model.predict(x), axis=-1)`,   if your model does multi-class classification   (e.g. if it uses a `softmax` last-layer activation).* `(model.predict(x) > 0.5).astype(\"int32\")`,   if your model does binary classification   (e.g. if it uses a `sigmoid` last-layer activation).\n",
      "  warnings.warn('`model.predict_classes()` is deprecated and '\n"
     ]
    },
    {
     "name": "stdout",
     "output_type": "stream",
     "text": [
      "[CV] END act_method=['relu', 'relu', 'relu', 'relu', 'sigmoid'], batchnormalize=True, input_shape=7, layer_number=[500, 500, 500, 500], loss=binary_crossentropy, optimizer=adam; total time=  39.1s\n"
     ]
    }
   ],
   "source": [
    "import tensorflow as tf\r\n",
    "import tensorflow.keras as keras\r\n",
    "import tensorflow.keras.layers as layers\r\n",
    "\r\n",
    "from sklearn.model_selection import GridSearchCV\r\n",
    "from tensorflow.keras.wrappers.scikit_learn import KerasClassifier\r\n",
    "\r\n",
    "input_len = 7\r\n",
    "\r\n",
    "def buildCustomModel(input_shape, layer_number=[100, 100, 100], act_method=['relu', 'relu', 'relu', 'sigmoid'], batchnormalize= True, optimizer=\"adam\", loss='mean_squared_error'):\r\n",
    "    m_list = []\r\n",
    "    m_list.append(layers.InputLayer(input_shape=input_shape))\r\n",
    "    \r\n",
    "    for i in range(len(layer_number)):\r\n",
    "        m_list.append(layers.Dense(layer_number[i], activation=act_method[i]))\r\n",
    "        if batchnormalize:\r\n",
    "            m_list.append(layers.BatchNormalization(axis=1))\r\n",
    "    m_list.append(layers.Dense(1, activation= act_method[-1]))\r\n",
    "\r\n",
    "    model = keras.Sequential(m_list)\r\n",
    "    model.compile(optimizer=optimizer, loss=loss)\r\n",
    "    return model\r\n",
    "\r\n",
    "param_grid = [\r\n",
    "    {\r\n",
    "    'input_shape': [input_len], \r\n",
    "    'layer_number': [[1000, 750, 500, 250], [750, 500, 250, 100], [500, 500, 500, 500]],\r\n",
    "    'act_method': [['relu', 'relu', 'relu', 'relu', 'sigmoid']], \r\n",
    "    'batchnormalize':[True],\r\n",
    "    'optimizer': ['adam'], \r\n",
    "    'loss': ['binary_crossentropy']\r\n",
    "    }\r\n",
    "    ]\r\n",
    "\r\n",
    "\r\n",
    "model = KerasClassifier(build_fn=buildCustomModel, verbose=0)\r\n",
    "gs = GridSearchCV(estimator=model,param_grid=param_grid, cv=2, n_jobs=None, scoring='accuracy', verbose=2)\r\n",
    "fitted_model = gs.fit(xtrain, ytrain, epochs= 20)"
   ]
  },
  {
   "cell_type": "code",
   "execution_count": 9,
   "metadata": {},
   "outputs": [
    {
     "data": {
      "text/plain": [
       "0.5491999999999999"
      ]
     },
     "execution_count": 9,
     "metadata": {},
     "output_type": "execute_result"
    }
   ],
   "source": [
    "fitted_model.best_score_"
   ]
  },
  {
   "cell_type": "code",
   "execution_count": 8,
   "metadata": {},
   "outputs": [
    {
     "name": "stdout",
     "output_type": "stream",
     "text": [
      "Epoch 1/100\n",
      "1250/1250 [==============================] - 9s 7ms/step - loss: 0.7680 - val_loss: 0.7058\n",
      "Epoch 2/100\n",
      "1250/1250 [==============================] - 8s 7ms/step - loss: 0.7100 - val_loss: 0.7377\n",
      "Epoch 3/100\n",
      "1250/1250 [==============================] - 8s 7ms/step - loss: 0.7060 - val_loss: 0.6964\n",
      "Epoch 4/100\n",
      "1250/1250 [==============================] - 9s 7ms/step - loss: 0.7037 - val_loss: 0.6955\n",
      "Epoch 5/100\n",
      "1250/1250 [==============================] - 8s 7ms/step - loss: 0.7026 - val_loss: 0.7002\n",
      "Epoch 6/100\n",
      "1250/1250 [==============================] - 8s 7ms/step - loss: 0.6997 - val_loss: 0.6951\n",
      "Epoch 7/100\n",
      "1250/1250 [==============================] - 9s 7ms/step - loss: 0.6980 - val_loss: 0.6955\n",
      "Epoch 8/100\n",
      "1250/1250 [==============================] - 9s 8ms/step - loss: 0.6968 - val_loss: 0.7037\n",
      "Epoch 9/100\n",
      "1250/1250 [==============================] - 9s 7ms/step - loss: 0.6957 - val_loss: 0.6964\n",
      "Epoch 10/100\n",
      "1250/1250 [==============================] - 9s 7ms/step - loss: 0.6949 - val_loss: 0.6944\n",
      "Epoch 11/100\n",
      "1250/1250 [==============================] - 9s 7ms/step - loss: 0.6940 - val_loss: 0.6948\n",
      "Epoch 12/100\n",
      "1250/1250 [==============================] - 9s 7ms/step - loss: 0.6938 - val_loss: 0.6947\n",
      "Epoch 13/100\n",
      "1250/1250 [==============================] - 9s 7ms/step - loss: 0.6936 - val_loss: 0.6940\n",
      "Epoch 14/100\n",
      "1250/1250 [==============================] - 9s 7ms/step - loss: 0.6934 - val_loss: 0.6962\n",
      "Epoch 15/100\n",
      "1250/1250 [==============================] - 9s 7ms/step - loss: 0.6936 - val_loss: 0.6934\n",
      "Epoch 16/100\n",
      "1250/1250 [==============================] - 9s 7ms/step - loss: 0.6936 - val_loss: 0.6931\n",
      "Epoch 17/100\n",
      "1250/1250 [==============================] - 9s 7ms/step - loss: 0.6934 - val_loss: 0.6934\n",
      "Epoch 18/100\n",
      "1250/1250 [==============================] - 9s 7ms/step - loss: 0.6934 - val_loss: 0.6943\n",
      "Epoch 19/100\n",
      "1250/1250 [==============================] - 9s 7ms/step - loss: 0.6936 - val_loss: 0.6930\n",
      "Epoch 20/100\n",
      "1250/1250 [==============================] - 9s 7ms/step - loss: 0.6934 - val_loss: 0.6931\n",
      "Epoch 21/100\n",
      "1250/1250 [==============================] - 9s 7ms/step - loss: 0.6934 - val_loss: 0.6930\n",
      "Epoch 22/100\n",
      "1250/1250 [==============================] - 9s 7ms/step - loss: 0.6934 - val_loss: 0.6931\n",
      "Epoch 23/100\n",
      "1250/1250 [==============================] - 9s 7ms/step - loss: 0.6934 - val_loss: 0.6931\n",
      "Epoch 24/100\n",
      "1250/1250 [==============================] - 9s 7ms/step - loss: 0.6934 - val_loss: 0.6929\n",
      "Epoch 25/100\n",
      "1250/1250 [==============================] - 9s 7ms/step - loss: 0.6934 - val_loss: 0.6929\n",
      "Epoch 26/100\n",
      "1250/1250 [==============================] - 9s 7ms/step - loss: 0.6934 - val_loss: 0.6929\n",
      "Epoch 27/100\n",
      "1250/1250 [==============================] - 9s 7ms/step - loss: 0.6933 - val_loss: 0.6929\n",
      "Epoch 28/100\n",
      "1250/1250 [==============================] - 9s 7ms/step - loss: 0.6934 - val_loss: 0.6933\n",
      "Epoch 29/100\n",
      "1250/1250 [==============================] - 9s 7ms/step - loss: 0.6933 - val_loss: 0.6928\n",
      "Epoch 30/100\n",
      "1250/1250 [==============================] - 9s 7ms/step - loss: 0.6933 - val_loss: 0.6929\n",
      "Epoch 31/100\n",
      "1250/1250 [==============================] - 11s 9ms/step - loss: 0.6933 - val_loss: 0.6926\n",
      "Epoch 32/100\n",
      "1250/1250 [==============================] - 9s 7ms/step - loss: 0.6933 - val_loss: 0.6923\n",
      "Epoch 33/100\n",
      "1250/1250 [==============================] - 9s 7ms/step - loss: 0.6930 - val_loss: 0.6948\n",
      "Epoch 34/100\n",
      "1250/1250 [==============================] - 9s 7ms/step - loss: 0.6933 - val_loss: 0.6926\n",
      "Epoch 35/100\n",
      "1250/1250 [==============================] - 9s 7ms/step - loss: 0.6931 - val_loss: 0.6925\n",
      "Epoch 36/100\n",
      "1250/1250 [==============================] - 9s 7ms/step - loss: 0.6932 - val_loss: 0.6925\n",
      "Epoch 37/100\n",
      "1250/1250 [==============================] - 9s 7ms/step - loss: 0.6932 - val_loss: 0.6929\n",
      "test score 0.5181036207241448 train score 0.51485\n"
     ]
    }
   ],
   "source": [
    "model = Sequential([\r\n",
    "    layers.InputLayer(input_shape=input_len),\r\n",
    "    layers.Dense(500, activation='relu'),\r\n",
    "    layers.BatchNormalization(axis=1),\r\n",
    "    layers.Dense(500, activation='relu'),\r\n",
    "    layers.BatchNormalization(axis=1),\r\n",
    "    layers.Dense(500, activation='relu'),\r\n",
    "    layers.BatchNormalization(axis=1),\r\n",
    "    layers.Dense(500, activation='relu'),\r\n",
    "    layers.BatchNormalization(axis=1),\r\n",
    "    layers.Dense(1, activation='sigmoid'),\r\n",
    "    ])\r\n",
    "\r\n",
    "model.compile(optimizer=\"adam\", loss='binary_crossentropy') \r\n",
    "model.fit(xtrain, ytrain, epochs=100, verbose=1, batch_size=16, validation_data=(xtest, ytest), callbacks=[early_stop])\r\n",
    "\r\n",
    "print(\"test score\", SimpleScore(model.predict(xtest),ytest), \"train score\", SimpleScore(model.predict(xtrain),ytrain))"
   ]
  }
 ],
 "metadata": {
  "interpreter": {
   "hash": "a9f4e6d20922324ae8d38ad534431536cf0372a63e24c6300c6c19e086b0281f"
  },
  "kernelspec": {
   "display_name": "Python 3.8.10 64-bit",
   "name": "python3"
  },
  "language_info": {
   "codemirror_mode": {
    "name": "ipython",
    "version": 3
   },
   "file_extension": ".py",
   "mimetype": "text/x-python",
   "name": "python",
   "nbconvert_exporter": "python",
   "pygments_lexer": "ipython3",
   "version": "3.7.10"
  },
  "orig_nbformat": 4
 },
 "nbformat": 4,
 "nbformat_minor": 2
}