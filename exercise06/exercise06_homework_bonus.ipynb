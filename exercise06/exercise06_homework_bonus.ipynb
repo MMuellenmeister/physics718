{
 "metadata": {
  "language_info": {
   "codemirror_mode": {
    "name": "ipython",
    "version": 3
   },
   "file_extension": ".py",
   "mimetype": "text/x-python",
   "name": "python",
   "nbconvert_exporter": "python",
   "pygments_lexer": "ipython3",
   "version": "3.7.10"
  },
  "orig_nbformat": 4,
  "kernelspec": {
   "name": "python3",
   "display_name": "Python 3.7.10 64-bit ('physics718': conda)"
  },
  "interpreter": {
   "hash": "5948b549e4298be7ebe0a84d132ff535d6fd9e46b0fbc7e8cc404faf05ab3cd6"
  }
 },
 "nbformat": 4,
 "nbformat_minor": 2,
 "cells": [
  {
   "cell_type": "code",
   "execution_count": null,
   "metadata": {},
   "outputs": [],
   "source": [
    "import pandas as pd\n",
    "import numpy as np"
   ]
  },
  {
   "cell_type": "code",
   "execution_count": null,
   "metadata": {},
   "outputs": [],
   "source": [
    "def GetData(df):\n",
    "    cols = df.columns[:-1]\n",
    "    X = df[cols].to_numpy()\n",
    "    Y=df['signal'].to_numpy().reshape((len(df),1))\n",
    "    return X,Y\n",
    "\n",
    "xtrain, ytrain = GetData(pd.read_csv(\"train_bonus.csv\"))\n",
    "xtest, ytest   = GetData(pd.read_csv(\"test_bonus.csv\"))\n",
    "\n",
    "print(xtrain.shape, ytrain.shape)"
   ]
  },
  {
   "cell_type": "code",
   "execution_count": null,
   "metadata": {},
   "outputs": [],
   "source": [
    "import tensorflow.keras\n",
    "import tensorflow.keras.layers as layers\n",
    "from tensorflow.keras import Sequential\n",
    "from tensorflow.keras.callbacks import EarlyStopping\n",
    "\n",
    "early_stop = EarlyStopping(monitor=\"val_loss\", patience=5, restore_best_weights=True)\n",
    "\n",
    "def SimpleScore(pred, ytest):\n",
    "    if (pred.shape != ytest.shape): \n",
    "        pred=pred.reshape(ytest.shape) # important! prevents broadcasting\n",
    "    diff = np.abs(pred - np.clip(ytest,0,1))\n",
    "    return np.mean(np.less(diff,0.5))  "
   ]
  },
  {
   "cell_type": "code",
   "execution_count": null,
   "metadata": {},
   "outputs": [],
   "source": [
    "# this is a start point of your analysis, ... but not a good one\n",
    "model = Sequential([\n",
    "    layers.Dense(100, activation=\"sigmoid\"),\n",
    "    layers.Dense(100, activation=\"sigmoid\"),\n",
    "    layers.Dense(1, activation=\"sigmoid\")\n",
    "    ])\n",
    "\n",
    "model.compile(optimizer=\"adam\", loss='binary_crossentropy') \n",
    "model.fit(xtrain, ytrain, epochs=30, verbose=1, batch_size=16, validation_data=(xtest, ytest), callbacks=[early_stop])\n",
    "\n",
    "print(\"test score\", SimpleScore(model.predict(xtest),ytest), \"train score\", SimpleScore(model.predict(xtrain),ytrain))"
   ]
  },
  {
   "cell_type": "code",
   "execution_count": null,
   "metadata": {},
   "outputs": [],
   "source": []
  }
 ]
}