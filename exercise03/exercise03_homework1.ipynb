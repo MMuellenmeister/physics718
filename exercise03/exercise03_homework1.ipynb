{
 "metadata": {
  "language_info": {
   "codemirror_mode": {
    "name": "ipython",
    "version": 3
   },
   "file_extension": ".py",
   "mimetype": "text/x-python",
   "name": "python",
   "nbconvert_exporter": "python",
   "pygments_lexer": "ipython3",
   "version": "3.7.10"
  },
  "orig_nbformat": 2,
  "kernelspec": {
   "name": "python3710jvsc74a57bd0ec3b9e72cb48d041ea4c70f47e0728ad1cb2ede6bf58ec95e517d027066a3cec",
   "display_name": "Python 3.7.10 64-bit ('physics718': conda)"
  }
 },
 "nbformat": 4,
 "nbformat_minor": 2,
 "cells": [
  {
   "source": [
    "# Homework 03\n",
    "## 1. NumPy performance"
   ],
   "cell_type": "markdown",
   "metadata": {}
  },
  {
   "cell_type": "code",
   "execution_count": null,
   "metadata": {},
   "outputs": [],
   "source": [
    "import numpy as np\n",
    "import math"
   ]
  },
  {
   "cell_type": "code",
   "execution_count": null,
   "metadata": {},
   "outputs": [],
   "source": [
    "# expand this function to complete the first task of the first homework exercise\n",
    "def log_integral(x, delta_x, N):\n",
    "    return None #change me!"
   ]
  },
  {
   "cell_type": "code",
   "execution_count": null,
   "metadata": {},
   "outputs": [],
   "source": [
    "# expand this function to complete the second task of the first homework exercise\n",
    "def log_integral_numpy(x, delta_x, N):\n",
    "    return None #change me!"
   ]
  },
  {
   "cell_type": "code",
   "execution_count": null,
   "metadata": {},
   "outputs": [],
   "source": [
    "# change the variables c, N and x to complete the last task of this homework exercise\n",
    "\n",
    "c = 0 #change me!\n",
    "N = 1 #change me!\n",
    "delta_x = (c-1)/N\n",
    "\n",
    "x = [] #change me!"
   ]
  },
  {
   "cell_type": "code",
   "execution_count": null,
   "metadata": {},
   "outputs": [],
   "source": [
    "# this function test if your implementation of log_integral and log_integral_numpy are working correctly. It also prints the execution time of your implementations. If this function throws an NotImplementedError exceptions you still need to change your code in the cells above\n",
    "# DO NOT REMOVE THIS FUNCTION\n",
    "def test_log_integral(func, x, delta_x, N, printExecTime=True, verbose=False, decimal=4):\n",
    "    if len(x) == 0: raise NotImplementedError(\"you need to define the partition!\")\n",
    "    if N == 1:      raise NotImplementedError(\"you should set the number of steps!\")\n",
    "\n",
    "    from numpy.testing import assert_almost_equal\n",
    "\n",
    "    c = np.exp(1)\n",
    "\n",
    "    test_value = np.exp(1)/2-1\n",
    "\n",
    "    func_result = func(x, delta_x, N)\n",
    "\n",
    "    print()\n",
    "    if printExecTime:\n",
    "        %timeit func(x, delta_x, N)\n",
    "\n",
    "    if func_result == None:\n",
    "        raise NotImplementedError('function \"%s\" still needs to be implemented!' % (func.__name__))\n",
    "    \n",
    "    try: \n",
    "        assert_almost_equal(func_result, test_value, decimal)\n",
    "        print(\"[%s] test passed\" % func.__name__)\n",
    "    except:\n",
    "        print(\"[%s] test did not pass\" % func.__name__)\n",
    "        verbose = True\n",
    "\n",
    "    if verbose:\n",
    "        print('function result: %.*f' % (decimal, func_result))\n",
    "        print(\"expected result: %.*f\" % (decimal, test_value))"
   ]
  },
  {
   "cell_type": "code",
   "execution_count": null,
   "metadata": {},
   "outputs": [],
   "source": [
    "# this calls the test function to see that everything works. DO NOT REMOVE THESE TWO LINES\n",
    "test_log_integral(log_integral, x, delta_x, N)\n",
    "test_log_integral(log_integral_numpy, x, delta_x, N)"
   ]
  }
 ]
}