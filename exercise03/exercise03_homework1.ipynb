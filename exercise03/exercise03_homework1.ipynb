{
 "metadata": {
  "language_info": {
   "codemirror_mode": {
    "name": "ipython",
    "version": 3
   },
   "file_extension": ".py",
   "mimetype": "text/x-python",
   "name": "python",
   "nbconvert_exporter": "python",
   "pygments_lexer": "ipython3",
   "version": "3.8.10"
  },
  "orig_nbformat": 2,
  "kernelspec": {
   "name": "python3810jvsc74a57bd0f73053475797ef03885bc7a58213f83ce9d4f42869c0c116e36430f74f265830",
   "display_name": "Python 3.8.10 64-bit ('ml_retry': conda)"
  }
 },
 "nbformat": 4,
 "nbformat_minor": 2,
 "cells": [
  {
   "source": [
    "# Homework 03\n",
    "## 1. NumPy performance"
   ],
   "cell_type": "markdown",
   "metadata": {}
  },
  {
   "cell_type": "code",
   "execution_count": 1,
   "metadata": {},
   "outputs": [],
   "source": [
    "import numpy as np\n",
    "import math"
   ]
  },
  {
   "cell_type": "code",
   "execution_count": 2,
   "metadata": {},
   "outputs": [],
   "source": [
    "# expand this function to complete the first task of the first homework exercise\n",
    "def log_integral(x, delta_x, N):\n",
    "    tot = 0\n",
    "    for k in range(1,N):\n",
    "        l= math.log(x[k])\n",
    "        tot += l/(1+l)**2\n",
    "    \n",
    "    return tot*delta_x"
   ]
  },
  {
   "cell_type": "code",
   "execution_count": 3,
   "metadata": {},
   "outputs": [],
   "source": [
    "# expand this function to complete the second task of the first homework exercise\n",
    "def log_integral_numpy(x, delta_x, N):\n",
    "    l= np.log(x)\n",
    "    return np.sum(l/np.power(1+l,2))*delta_x"
   ]
  },
  {
   "cell_type": "code",
   "execution_count": 4,
   "metadata": {},
   "outputs": [],
   "source": [
    "# change the variables c, N and x to complete the last task of this homework exercise\n",
    "\n",
    "c = np.exp(1)\n",
    "N = 10000\n",
    "delta_x = (c-1)/N\n",
    "\n",
    "x = np.linspace(1,c,N)"
   ]
  },
  {
   "cell_type": "code",
   "execution_count": 5,
   "metadata": {},
   "outputs": [],
   "source": [
    "# this function test if your implementation of log_integral and log_integral_numpy are working correctly. It also prints the execution time of your implementations. If this function throws an NotImplementedError exceptions you still need to change your code in the cells above\n",
    "# DO NOT REMOVE THIS FUNCTION\n",
    "def test_log_integral(func, x, delta_x, N, printExecTime=True, verbose=False, decimal=4):\n",
    "    if len(x) == 0: raise NotImplementedError(\"you need to define the partition!\")\n",
    "    if N == 1:      raise NotImplementedError(\"you should set the number of steps!\")\n",
    "\n",
    "    from numpy.testing import assert_almost_equal\n",
    "\n",
    "    c = np.exp(1)\n",
    "\n",
    "    test_value = np.exp(1)/2-1\n",
    "\n",
    "    func_result = func(x, delta_x, N)\n",
    "\n",
    "    print()\n",
    "    if printExecTime:\n",
    "        %timeit func(x, delta_x, N)\n",
    "\n",
    "    if func_result == None:\n",
    "        raise NotImplementedError('function \"%s\" still needs to be implemented!' % (func.__name__))\n",
    "    \n",
    "    try: \n",
    "        assert_almost_equal(func_result, test_value, decimal)\n",
    "        print(\"[%s] test passed\" % func.__name__)\n",
    "    except:\n",
    "        print(\"[%s] test did not pass\" % func.__name__)\n",
    "        verbose = True\n",
    "\n",
    "    if verbose:\n",
    "        print('function result: %.*f' % (decimal, func_result))\n",
    "        print(\"expected result: %.*f\" % (decimal, test_value))"
   ]
  },
  {
   "cell_type": "code",
   "execution_count": 6,
   "metadata": {},
   "outputs": [
    {
     "output_type": "stream",
     "name": "stdout",
     "text": [
      "\n",
      "5.11 ms ± 523 µs per loop (mean ± std. dev. of 7 runs, 100 loops each)\n",
      "[log_integral] test passed\n",
      "\n",
      "350 µs ± 10.9 µs per loop (mean ± std. dev. of 7 runs, 1000 loops each)\n",
      "[log_integral_numpy] test passed\n"
     ]
    }
   ],
   "source": [
    "# this calls the test function to see that everything works. DO NOT REMOVE THESE TWO LINES\n",
    "test_log_integral(log_integral, x, delta_x, N)\n",
    "test_log_integral(log_integral_numpy, x, delta_x, N)"
   ]
  },
  {
   "cell_type": "code",
   "execution_count": null,
   "metadata": {},
   "outputs": [],
   "source": []
  }
 ]
}