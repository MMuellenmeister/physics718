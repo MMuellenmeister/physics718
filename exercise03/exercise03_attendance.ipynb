{
 "metadata": {
  "language_info": {
   "codemirror_mode": {
    "name": "ipython",
    "version": 3
   },
   "file_extension": ".py",
   "mimetype": "text/x-python",
   "name": "python",
   "nbconvert_exporter": "python",
   "pygments_lexer": "ipython3",
   "version": "3.7.10"
  },
  "orig_nbformat": 2,
  "kernelspec": {
   "name": "python3710jvsc74a57bd0c7ed0d4505f5c5fddf6a872a700a41494a8e78f563e4faa0d2bb14c1d28b44e1",
   "display_name": "Python 3.7.10 64-bit (conda)"
  }
 },
 "nbformat": 4,
 "nbformat_minor": 2,
 "cells": [
  {
   "source": [
    "# Attendance Exercise 03"
   ],
   "cell_type": "markdown",
   "metadata": {}
  },
  {
   "cell_type": "code",
   "execution_count": 3,
   "metadata": {},
   "outputs": [],
   "source": [
    "import numpy as np \n",
    "import pandas as pd"
   ]
  },
  {
   "source": [
    "## 1. Introduction to the pandas package"
   ],
   "cell_type": "markdown",
   "metadata": {}
  },
  {
   "cell_type": "code",
   "execution_count": 4,
   "metadata": {},
   "outputs": [],
   "source": [
    "# this is the dicionaty which you will need to complete the tasks of this exercise. DO NOT REMOVE IT\n",
    "exam_data_dict  = {'name': ['Niklas', 'Moritz', 'Emily', 'Samantha', 'Katrin', 'Julien', 'Laura', 'Leila', 'Peter', 'John'],\n",
    "    'score': [np.nan, 3, 13.5, 7, 5, 19, 13.5, np.nan, 9, 14],\n",
    "    'attempts': [3, 1, 2, 3, 2, 3, 1, 2, 2, 1],\n",
    "    'qualify': ['no', 'yes', 'yes', 'no', 'yes', 'no', 'yes', 'yes', 'yes', 'yes']}"
   ]
  },
  {
   "source": [
    "### 1.a) DataFrame creation"
   ],
   "cell_type": "markdown",
   "metadata": {}
  },
  {
   "cell_type": "code",
   "execution_count": 9,
   "metadata": {},
   "outputs": [
    {
     "output_type": "stream",
     "name": "stdout",
     "text": [
      "<class 'pandas.core.frame.DataFrame'>\nRangeIndex: 10 entries, 0 to 9\nData columns (total 4 columns):\nname        10 non-null object\nscore       8 non-null float64\nattempts    10 non-null int64\nqualify     10 non-null object\ndtypes: float64(1), int64(1), object(2)\nmemory usage: 400.0+ bytes\n"
     ]
    },
    {
     "output_type": "execute_result",
     "data": {
      "text/plain": [
       "           score   attempts\n",
       "count   8.000000  10.000000\n",
       "mean   10.500000   2.000000\n",
       "std     5.391793   0.816497\n",
       "min     3.000000   1.000000\n",
       "25%     6.500000   1.250000\n",
       "50%    11.250000   2.000000\n",
       "75%    13.625000   2.750000\n",
       "max    19.000000   3.000000"
      ],
      "text/html": "<div>\n<style scoped>\n    .dataframe tbody tr th:only-of-type {\n        vertical-align: middle;\n    }\n\n    .dataframe tbody tr th {\n        vertical-align: top;\n    }\n\n    .dataframe thead th {\n        text-align: right;\n    }\n</style>\n<table border=\"1\" class=\"dataframe\">\n  <thead>\n    <tr style=\"text-align: right;\">\n      <th></th>\n      <th>score</th>\n      <th>attempts</th>\n    </tr>\n  </thead>\n  <tbody>\n    <tr>\n      <th>count</th>\n      <td>8.000000</td>\n      <td>10.000000</td>\n    </tr>\n    <tr>\n      <th>mean</th>\n      <td>10.500000</td>\n      <td>2.000000</td>\n    </tr>\n    <tr>\n      <th>std</th>\n      <td>5.391793</td>\n      <td>0.816497</td>\n    </tr>\n    <tr>\n      <th>min</th>\n      <td>3.000000</td>\n      <td>1.000000</td>\n    </tr>\n    <tr>\n      <th>25%</th>\n      <td>6.500000</td>\n      <td>1.250000</td>\n    </tr>\n    <tr>\n      <th>50%</th>\n      <td>11.250000</td>\n      <td>2.000000</td>\n    </tr>\n    <tr>\n      <th>75%</th>\n      <td>13.625000</td>\n      <td>2.750000</td>\n    </tr>\n    <tr>\n      <th>max</th>\n      <td>19.000000</td>\n      <td>3.000000</td>\n    </tr>\n  </tbody>\n</table>\n</div>"
     },
     "metadata": {},
     "execution_count": 9
    }
   ],
   "source": [
    "df= pd.DataFrame(exam_data_dict)\n",
    "df.info()\n",
    "df.head()\n",
    "df.tail()\n",
    "df.describe()"
   ]
  },
  {
   "source": [
    "### 1.b) Loading / saving of DataFrames"
   ],
   "cell_type": "markdown",
   "metadata": {}
  },
  {
   "cell_type": "code",
   "execution_count": 10,
   "metadata": {},
   "outputs": [],
   "source": [
    "df.to_csv(\"students_exam.csv\")"
   ]
  },
  {
   "cell_type": "code",
   "execution_count": 12,
   "metadata": {},
   "outputs": [
    {
     "output_type": "execute_result",
     "data": {
      "text/plain": [
       "    Unnamed: 0   name  score  attempts qualify\n",
       "6            6  Laura   13.5         1     yes\n",
       "7            7  Leila    NaN         2     yes\n",
       "8            8  Peter    9.0         2     yes\n",
       "9            9   John   14.0         1     yes\n",
       "10           9  JMohn   12.0         2      no"
      ],
      "text/html": "<div>\n<style scoped>\n    .dataframe tbody tr th:only-of-type {\n        vertical-align: middle;\n    }\n\n    .dataframe tbody tr th {\n        vertical-align: top;\n    }\n\n    .dataframe thead th {\n        text-align: right;\n    }\n</style>\n<table border=\"1\" class=\"dataframe\">\n  <thead>\n    <tr style=\"text-align: right;\">\n      <th></th>\n      <th>Unnamed: 0</th>\n      <th>name</th>\n      <th>score</th>\n      <th>attempts</th>\n      <th>qualify</th>\n    </tr>\n  </thead>\n  <tbody>\n    <tr>\n      <th>6</th>\n      <td>6</td>\n      <td>Laura</td>\n      <td>13.5</td>\n      <td>1</td>\n      <td>yes</td>\n    </tr>\n    <tr>\n      <th>7</th>\n      <td>7</td>\n      <td>Leila</td>\n      <td>NaN</td>\n      <td>2</td>\n      <td>yes</td>\n    </tr>\n    <tr>\n      <th>8</th>\n      <td>8</td>\n      <td>Peter</td>\n      <td>9.0</td>\n      <td>2</td>\n      <td>yes</td>\n    </tr>\n    <tr>\n      <th>9</th>\n      <td>9</td>\n      <td>John</td>\n      <td>14.0</td>\n      <td>1</td>\n      <td>yes</td>\n    </tr>\n    <tr>\n      <th>10</th>\n      <td>9</td>\n      <td>JMohn</td>\n      <td>12.0</td>\n      <td>2</td>\n      <td>no</td>\n    </tr>\n  </tbody>\n</table>\n</div>"
     },
     "metadata": {},
     "execution_count": 12
    }
   ],
   "source": [
    "df2 = pd.read_csv(\"students_exam.csv\")\n",
    "df2.tail()"
   ]
  },
  {
   "source": [
    "### 1.c) Data selection"
   ],
   "cell_type": "markdown",
   "metadata": {}
  },
  {
   "cell_type": "code",
   "execution_count": 16,
   "metadata": {},
   "outputs": [
    {
     "output_type": "stream",
     "name": "stdout",
     "text": [
      "Index(['Unnamed: 0', 'name', 'score', 'attempts', 'qualify'], dtype='object')\n"
     ]
    },
    {
     "output_type": "execute_result",
     "data": {
      "text/plain": [
       "       name  score\n",
       "0    Niklas    NaN\n",
       "1    Moritz    3.0\n",
       "2     Emily   13.5\n",
       "3  Samantha    7.0\n",
       "4    Katrin    5.0"
      ],
      "text/html": "<div>\n<style scoped>\n    .dataframe tbody tr th:only-of-type {\n        vertical-align: middle;\n    }\n\n    .dataframe tbody tr th {\n        vertical-align: top;\n    }\n\n    .dataframe thead th {\n        text-align: right;\n    }\n</style>\n<table border=\"1\" class=\"dataframe\">\n  <thead>\n    <tr style=\"text-align: right;\">\n      <th></th>\n      <th>name</th>\n      <th>score</th>\n    </tr>\n  </thead>\n  <tbody>\n    <tr>\n      <th>0</th>\n      <td>Niklas</td>\n      <td>NaN</td>\n    </tr>\n    <tr>\n      <th>1</th>\n      <td>Moritz</td>\n      <td>3.0</td>\n    </tr>\n    <tr>\n      <th>2</th>\n      <td>Emily</td>\n      <td>13.5</td>\n    </tr>\n    <tr>\n      <th>3</th>\n      <td>Samantha</td>\n      <td>7.0</td>\n    </tr>\n    <tr>\n      <th>4</th>\n      <td>Katrin</td>\n      <td>5.0</td>\n    </tr>\n  </tbody>\n</table>\n</div>"
     },
     "metadata": {},
     "execution_count": 16
    }
   ],
   "source": [
    "print(df2.columns)\n",
    "df3 = df2[[\"name\",\"score\"]]\n",
    "df3.head()"
   ]
  },
  {
   "source": [
    "### 1.d) Ill-defnied values"
   ],
   "cell_type": "markdown",
   "metadata": {}
  },
  {
   "cell_type": "code",
   "execution_count": 18,
   "metadata": {},
   "outputs": [
    {
     "output_type": "execute_result",
     "data": {
      "text/plain": [
       "        name  score\n",
       "0     Niklas    0.0\n",
       "1     Moritz    3.0\n",
       "2      Emily   13.5\n",
       "3   Samantha    7.0\n",
       "4     Katrin    5.0\n",
       "5     Julien   19.0\n",
       "6      Laura   13.5\n",
       "7      Leila    0.0\n",
       "8      Peter    9.0\n",
       "9       John   14.0\n",
       "10     JMohn   12.0"
      ],
      "text/html": "<div>\n<style scoped>\n    .dataframe tbody tr th:only-of-type {\n        vertical-align: middle;\n    }\n\n    .dataframe tbody tr th {\n        vertical-align: top;\n    }\n\n    .dataframe thead th {\n        text-align: right;\n    }\n</style>\n<table border=\"1\" class=\"dataframe\">\n  <thead>\n    <tr style=\"text-align: right;\">\n      <th></th>\n      <th>name</th>\n      <th>score</th>\n    </tr>\n  </thead>\n  <tbody>\n    <tr>\n      <th>0</th>\n      <td>Niklas</td>\n      <td>0.0</td>\n    </tr>\n    <tr>\n      <th>1</th>\n      <td>Moritz</td>\n      <td>3.0</td>\n    </tr>\n    <tr>\n      <th>2</th>\n      <td>Emily</td>\n      <td>13.5</td>\n    </tr>\n    <tr>\n      <th>3</th>\n      <td>Samantha</td>\n      <td>7.0</td>\n    </tr>\n    <tr>\n      <th>4</th>\n      <td>Katrin</td>\n      <td>5.0</td>\n    </tr>\n    <tr>\n      <th>5</th>\n      <td>Julien</td>\n      <td>19.0</td>\n    </tr>\n    <tr>\n      <th>6</th>\n      <td>Laura</td>\n      <td>13.5</td>\n    </tr>\n    <tr>\n      <th>7</th>\n      <td>Leila</td>\n      <td>0.0</td>\n    </tr>\n    <tr>\n      <th>8</th>\n      <td>Peter</td>\n      <td>9.0</td>\n    </tr>\n    <tr>\n      <th>9</th>\n      <td>John</td>\n      <td>14.0</td>\n    </tr>\n    <tr>\n      <th>10</th>\n      <td>JMohn</td>\n      <td>12.0</td>\n    </tr>\n  </tbody>\n</table>\n</div>"
     },
     "metadata": {},
     "execution_count": 18
    }
   ],
   "source": [
    "df3.replace(np.nan, 0)"
   ]
  },
  {
   "source": [
    "### 1.e) Passing students"
   ],
   "cell_type": "markdown",
   "metadata": {}
  },
  {
   "cell_type": "code",
   "execution_count": 55,
   "metadata": {},
   "outputs": [
    {
     "output_type": "execute_result",
     "data": {
      "text/plain": [
       "[['Julien', 19.0],\n",
       " ['John', 14.0],\n",
       " ['Emily', 13.5],\n",
       " ['Laura', 13.5],\n",
       " ['JMohn', 12.0]]"
      ]
     },
     "metadata": {},
     "execution_count": 55
    }
   ],
   "source": [
    "l1= df3.loc[df3[\"score\"]>=10].values.tolist()\n",
    "l1.sort(key = lambda n : n[1], reverse = True)\n",
    "l1"
   ]
  },
  {
   "source": [
    "## 2. Introduction to the NumPy package"
   ],
   "cell_type": "markdown",
   "metadata": {}
  },
  {
   "cell_type": "code",
   "execution_count": 56,
   "metadata": {},
   "outputs": [],
   "source": [
    "# these are the two list which you will need to complete the tasks of this exercise. DO NOT REMOVE THEM\n",
    "list_1D = [7, 5, 9, 0, 3, 1 ,4]\n",
    "list_2D = [[1, 0, 2], [3, 1, 2], [0, 1, 1]]"
   ]
  },
  {
   "source": [
    "### 1.a) NumPy array creation"
   ],
   "cell_type": "markdown",
   "metadata": {}
  },
  {
   "cell_type": "code",
   "execution_count": 61,
   "metadata": {},
   "outputs": [
    {
     "output_type": "stream",
     "name": "stdout",
     "text": [
      "[7 5 9 0 3 1 4]\n[[1 0 2]\n [3 1 2]\n [0 1 1]]\n[ 1.  2.  3.  4.  5.  6.  7.  8.  9. 10.]\n[0. 0. 0. 0. 0.]\n[1. 1. 1. 1. 1.]\n"
     ]
    }
   ],
   "source": [
    "n_arr = []\n",
    "n_arr.append(np.array(list_1D))\n",
    "n_arr.append(np.array(list_2D))\n",
    "n_arr.append(np.linspace(1,10,10))\n",
    "n_arr.append(np.zeros(5))\n",
    "n_arr.append(np.ones(5))\n",
    "for n in n_arr:\n",
    "    print(n)"
   ]
  },
  {
   "source": [
    "### 1.b) Array shapes and dimensions"
   ],
   "cell_type": "markdown",
   "metadata": {}
  },
  {
   "cell_type": "code",
   "execution_count": 63,
   "metadata": {},
   "outputs": [
    {
     "output_type": "stream",
     "name": "stdout",
     "text": [
      "0\n(7,)\n1\n\n1\n(3, 3)\n2\n\n2\n(10,)\n1\n\n3\n(5,)\n1\n\n4\n(5,)\n1\n\n"
     ]
    }
   ],
   "source": [
    "i= 0\n",
    "for n in n_arr:\n",
    "    print(i)\n",
    "    print(n.shape)\n",
    "    print(n.ndim)\n",
    "    print()\n",
    "    i+=1"
   ]
  },
  {
   "source": [
    "### 1.c) Copying of arrays"
   ],
   "cell_type": "markdown",
   "metadata": {}
  },
  {
   "cell_type": "code",
   "execution_count": 64,
   "metadata": {},
   "outputs": [
    {
     "output_type": "stream",
     "name": "stdout",
     "text": [
      "[[ 1  0  2]\n [ 3 15  2]\n [ 0  1  1]]\n[[1 0 2]\n [3 1 2]\n [0 1 1]]\n"
     ]
    }
   ],
   "source": [
    "using_1 = n_arr[1]\n",
    "using_2 = np.copy(n_arr[1])\n",
    "using_1[1,1]= 15\n",
    "print(using_1)\n",
    "print(using_2)"
   ]
  },
  {
   "source": [
    "### 1.d) Insert/delete"
   ],
   "cell_type": "markdown",
   "metadata": {}
  },
  {
   "cell_type": "code",
   "execution_count": 78,
   "metadata": {},
   "outputs": [
    {
     "output_type": "stream",
     "name": "stdout",
     "text": [
      "[[ 1  1  0  2]\n [ 3  1 15  2]\n [ 0  1  1  1]]\n[[1 0 2]\n [0 1 1]]\n"
     ]
    }
   ],
   "source": [
    "print(np.insert(n_arr[1], 1, [1,1,1], axis= 1))\n",
    "print(np.delete(n_arr[1], 1, axis= 0))"
   ]
  },
  {
   "source": [
    "### 1.e) Array combination"
   ],
   "cell_type": "markdown",
   "metadata": {}
  },
  {
   "cell_type": "code",
   "execution_count": null,
   "metadata": {},
   "outputs": [],
   "source": [
    "pass"
   ]
  },
  {
   "source": [
    "### 1.f) Array math"
   ],
   "cell_type": "markdown",
   "metadata": {}
  },
  {
   "cell_type": "code",
   "execution_count": null,
   "metadata": {},
   "outputs": [],
   "source": [
    "pass"
   ]
  },
  {
   "source": [
    "### 1.g) Matrix inverse"
   ],
   "cell_type": "markdown",
   "metadata": {}
  },
  {
   "cell_type": "code",
   "execution_count": null,
   "metadata": {},
   "outputs": [],
   "source": []
  },
  {
   "cell_type": "code",
   "execution_count": null,
   "metadata": {},
   "outputs": [],
   "source": []
  },
  {
   "source": [
    "### 1.h) Statistics with NumPy"
   ],
   "cell_type": "markdown",
   "metadata": {}
  },
  {
   "cell_type": "code",
   "execution_count": null,
   "metadata": {},
   "outputs": [],
   "source": []
  }
 ]
}