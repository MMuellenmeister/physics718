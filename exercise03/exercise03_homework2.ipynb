{
 "metadata": {
  "language_info": {
   "codemirror_mode": {
    "name": "ipython",
    "version": 3
   },
   "file_extension": ".py",
   "mimetype": "text/x-python",
   "name": "python",
   "nbconvert_exporter": "python",
   "pygments_lexer": "ipython3",
   "version": "3.7.10"
  },
  "orig_nbformat": 2,
  "kernelspec": {
   "name": "python3710jvsc74a57bd0ec3b9e72cb48d041ea4c70f47e0728ad1cb2ede6bf58ec95e517d027066a3cec",
   "display_name": "Python 3.7.10 64-bit ('physics718': conda)"
  }
 },
 "nbformat": 4,
 "nbformat_minor": 2,
 "cells": [
  {
   "source": [
    "# Homework 03\n",
    "## 2. House price Data Challenge"
   ],
   "cell_type": "markdown",
   "metadata": {}
  },
  {
   "cell_type": "code",
   "execution_count": null,
   "metadata": {},
   "outputs": [],
   "source": [
    "import pandas as pd\n",
    "import numpy as np\n",
    "import math\n",
    "\n",
    "from sklearn.linear_model import LinearRegression\n",
    "from os import listdir"
   ]
  },
  {
   "cell_type": "code",
   "execution_count": null,
   "metadata": {},
   "outputs": [],
   "source": [
    "df_train = pd.read_csv(\"train.csv\")\n",
    "df_test  = pd.read_csv(\"test.csv\")\n",
    "\n",
    "def preprocessDataFrame(df):\n",
    "    df['garage'] = df['garage'].fillna(0)\n",
    "    df['yrremodeled'] = df['yrremodeled'].fillna(0)\n",
    "\n",
    "    # replace string label by numberical label\n",
    "    dic = {'Farm': 1, 'Ranch':2, 'Cottage': 3, 'Town':4, 'Detached':5, 'Bungalow':6}\n",
    "\n",
    "    df['housetype'] = df['housetype'].map(dic)\n",
    "\n",
    "preprocessDataFrame(df_train)\n",
    "preprocessDataFrame(df_test)\n",
    "\n",
    "print(df_train.head(10))"
   ]
  },
  {
   "cell_type": "code",
   "execution_count": null,
   "metadata": {},
   "outputs": [],
   "source": [
    "# cross validated linear predictive model\n",
    "def LRfitCV(df, cols, tag=''):\n",
    "    n2 = len(df['price'])//2\n",
    "\n",
    "    regressor1 = LinearRegression()\n",
    "    regressor1.fit(df[cols][:n2], df['price'][:n2])\n",
    "\n",
    "    v1=regressor1.predict(df[cols][n2:])\n",
    "\n",
    "    regressor2 = LinearRegression()\n",
    "    regressor2.fit(df[cols][n2:], df['price'][n2:])\n",
    "\n",
    "    v2=regressor1.predict(df[cols][:n2])\n",
    "\n",
    "    df['LRprediction'] = list(v2) + list(v1)\n",
    "    df['LRdiff'] = (df['LRprediction']-df['price'])/df['price']\n",
    "\n",
    "    val = df['LRdiff'].abs().mean()\n",
    "\n",
    "    print(tag, \"average relative devitation\", val)\n",
    "\n",
    "    return val\n",
    "\n",
    "LRfitCV(df_train,['zipcode', 'floors', 'housetype', 'garage', 'lotarea', 'livingarea', 'Nbathroom', 'yearbuilt', 'yearsale', 'monthsale'])"
   ]
  },
  {
   "cell_type": "code",
   "execution_count": null,
   "metadata": {},
   "outputs": [],
   "source": [
    "# create example submission\n",
    "selected_columns = ['zipcode', 'floors', 'housetype', 'garage', 'lotarea', \n",
    "'livingarea', 'Nbathroom', 'yearbuilt', 'yearsale', 'monthsale']\n",
    "\n",
    "regressor = LinearRegression()\n",
    "regressor.fit(df_train[selected_columns], df_train['price'])\n",
    "\n",
    "df_test['price'] = regressor.predict(df_test[selected_columns])\n",
    "\n",
    "df_test[['id','price']].to_csv('example_submission.csv', index=False)"
   ]
  }
 ]
}