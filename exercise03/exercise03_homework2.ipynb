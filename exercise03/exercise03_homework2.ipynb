{
 "metadata": {
  "language_info": {
   "codemirror_mode": {
    "name": "ipython",
    "version": 3
   },
   "file_extension": ".py",
   "mimetype": "text/x-python",
   "name": "python",
   "nbconvert_exporter": "python",
   "pygments_lexer": "ipython3",
   "version": "3.8.10"
  },
  "orig_nbformat": 2,
  "kernelspec": {
   "name": "python3810jvsc74a57bd0f73053475797ef03885bc7a58213f83ce9d4f42869c0c116e36430f74f265830",
   "display_name": "Python 3.8.10 64-bit"
  }
 },
 "nbformat": 4,
 "nbformat_minor": 2,
 "cells": [
  {
   "source": [
    "# Homework 03\n",
    "## 2. House price Data Challenge"
   ],
   "cell_type": "markdown",
   "metadata": {}
  },
  {
   "cell_type": "code",
   "execution_count": 1,
   "metadata": {},
   "outputs": [],
   "source": [
    "import pandas as pd\n",
    "import numpy as np\n",
    "import math\n",
    "\n",
    "from sklearn.linear_model import LinearRegression\n",
    "from os import listdir"
   ]
  },
  {
   "cell_type": "code",
   "execution_count": 2,
   "metadata": {},
   "outputs": [
    {
     "output_type": "stream",
     "name": "stdout",
     "text": [
      "   id  zipcode  floors  housetype  garage  lotarea  livingarea  Nbathroom  \\\n0   1    27131       1          6     0.0     1386         692          1   \n1   2    27131       2          4   198.0     1950        1963          3   \n2   3    27134       2          4     0.0      706        1053          1   \n3   4    27119       3          3     0.0     1189        1808          3   \n4   5    27119       2          5   245.0     2330        2845          2   \n5   6    27137       2          4     0.0      928        1058          2   \n6   7    27137       2          3   229.0     2320        2521          2   \n7   8    27133       3          3     0.0     1750        2497          3   \n8   9    27133       2          3     0.0     1415        2397          2   \n9  10    27115       2          1     0.0     1367        1380          1   \n\n   yearbuilt  yrremodeled  yearsale  monthsale   price  \n0       1976          0.0      1996          1  162000  \n1       1977          0.0      1996          8  359500  \n2       1960       1986.0      2001         10  131500  \n3       1976          0.0      2001         10  318000  \n4       1966          0.0      1999          8  470000  \n5       1969          0.0      2003         10  202000  \n6       1971       1985.0      1997          2  520500  \n7       1971          0.0      1997          3  420500  \n8       1976          0.0      2002          4  297500  \n9       1984          0.0      2004         11  416500  \n"
     ]
    }
   ],
   "source": [
    "df_train = pd.read_csv(\"train.csv\")\n",
    "df_test  = pd.read_csv(\"test.csv\")\n",
    "\n",
    "def preprocessDataFrame(df):\n",
    "    df['garage'] = df['garage'].fillna(0)\n",
    "    df['yrremodeled'] = df['yrremodeled'].fillna(0)\n",
    "\n",
    "    # replace string label by numberical label\n",
    "    dic = {'Farm': 1, 'Ranch':2, 'Cottage': 3, 'Town':4, 'Detached':5, 'Bungalow':6}\n",
    "\n",
    "    df['housetype'] = df['housetype'].map(dic)\n",
    "\n",
    "preprocessDataFrame(df_train)\n",
    "preprocessDataFrame(df_test)\n",
    "\n",
    "print(df_train.head(10))"
   ]
  },
  {
   "cell_type": "code",
   "execution_count": 3,
   "metadata": {},
   "outputs": [
    {
     "output_type": "stream",
     "name": "stdout",
     "text": [
      " average relative devitation 0.1541210325085161\n"
     ]
    },
    {
     "output_type": "execute_result",
     "data": {
      "text/plain": [
       "0.1541210325085161"
      ]
     },
     "metadata": {},
     "execution_count": 3
    }
   ],
   "source": [
    "# cross validated linear predictive model\n",
    "def LRfitCV(df, cols, tag=''):\n",
    "    n2 = len(df['price'])//2\n",
    "\n",
    "    regressor1 = LinearRegression()\n",
    "    regressor1.fit(df[cols][:n2], df['price'][:n2])\n",
    "\n",
    "    v1=regressor1.predict(df[cols][n2:])\n",
    "\n",
    "    regressor2 = LinearRegression()\n",
    "    regressor2.fit(df[cols][n2:], df['price'][n2:])\n",
    "\n",
    "    v2=regressor1.predict(df[cols][:n2])\n",
    "\n",
    "    df['LRprediction'] = list(v2) + list(v1)\n",
    "    df['LRdiff'] = (df['LRprediction']-df['price'])/df['price']\n",
    "\n",
    "    val = df['LRdiff'].abs().mean()\n",
    "\n",
    "    print(tag, \"average relative devitation\", val)\n",
    "\n",
    "    return val\n",
    "\n",
    "LRfitCV(df_train,['zipcode', 'floors', 'housetype', 'garage', 'lotarea', 'livingarea', 'Nbathroom', 'yearbuilt', 'yearsale', 'monthsale'])"
   ]
  },
  {
   "cell_type": "code",
   "execution_count": 4,
   "metadata": {},
   "outputs": [],
   "source": [
    "# create example submission\n",
    "selected_columns = ['zipcode', 'floors', 'housetype', 'garage', 'lotarea', \n",
    "'livingarea', 'Nbathroom', 'yearbuilt', 'yearsale', 'monthsale']\n",
    "\n",
    "regressor = LinearRegression()\n",
    "regressor.fit(df_train[selected_columns], df_train['price'])\n",
    "\n",
    "df_test['price'] = regressor.predict(df_test[selected_columns])\n",
    "\n",
    "df_test[['id','price']].to_csv('example_submission.csv', index=False)"
   ]
  },
  {
   "cell_type": "code",
   "execution_count": 5,
   "metadata": {},
   "outputs": [],
   "source": [
    "from sklearn.ensemble import AdaBoostRegressor\n",
    "from sklearn.tree import DecisionTreeRegressor\n",
    "\n",
    "def fitBDT(df, cols, tag, ntrees= 500, ndepth= 15):\n",
    "    \"\"\"\n",
    "    Fits a boosted decision tree to cols of df to reproduce tag of df\n",
    "    \n",
    "    Parameters:\n",
    "    -----------\n",
    "    df: Pandas Dataframe containing all data required for fitting\n",
    "\n",
    "    cols: a list of strings, describing the input columns with which to fir the BDT\n",
    "\n",
    "    tag: a string describing the column for which to fit \n",
    "\n",
    "    ntrees: integer, depth of the AdaBoostRegressor\n",
    "\n",
    "    ndepth: integer, depth of the DecisionTreeRegressor\n",
    "\n",
    "    Returns:\n",
    "    --------\n",
    "    AdaBoostRegressor\n",
    "    \"\"\"\n",
    "    BDT = AdaBoostRegressor(n_estimators=ntrees, base_estimator=DecisionTreeRegressor(max_depth=ndepth))\n",
    "    BDT.fit(df[cols], df[tag])\n",
    "    return BDT\n"
   ]
  },
  {
   "cell_type": "code",
   "execution_count": 6,
   "metadata": {},
   "outputs": [],
   "source": [
    "new_train = pd.read_csv(\"train.csv\")\n",
    "new_test  = pd.read_csv(\"test.csv\")\n",
    "preprocessDataFrame(new_train)\n",
    "preprocessDataFrame(new_test) #not strictly needed, but usefull if we change the ones used further up\n",
    "\n",
    "fit_cols= ['zipcode', 'floors', 'housetype', 'garage', 'lotarea', 'livingarea', 'Nbathroom', 'yearbuilt', 'yearsale', 'monthsale']\n",
    "fit_goal= 'price'\n",
    "\n",
    "regressor = fitBDT(new_train, fit_cols, fit_goal)\n",
    "new_test['price'] = regressor.predict(new_test[fit_cols])\n",
    "new_test[['id', 'price']].to_csv(\"markusMuellenmeister_submission.csv\", index=False)"
   ]
  },
  {
   "cell_type": "code",
   "execution_count": 7,
   "metadata": {},
   "outputs": [],
   "source": [
    "\n",
    "def BDT_fit_CV(df, cols, tag, ntrees= 1000, ndepth= 10):\n",
    "    half = len(df[tag])//2  # determine halfwaypoint of dataframe\n",
    "\n",
    "    BDT1 = fitBDT(df[:][:half], cols, tag, ntrees, ndepth)\n",
    "    pred1= BDT1.predict(df[cols][half:])  # train BDT on fist half, use to reproduce second half\n",
    "\n",
    "    BDT2 = fitBDT(df[:][half:], cols, tag, ntrees, ndepth)\n",
    "    pred2= BDT2.predict(df[cols][:half])  # vice-versa with other half\n",
    "\n",
    "    df['pred'] = list(pred2) + list(pred1)  # combine two prediction halves into one extra column\n",
    "    df['diff'] = (df['pred']-df[tag])/df[tag]\n",
    "    val = df['diff'].abs().mean()  # get average percentage difference\n",
    "    print(\"(ntrees = \",ntrees,\", ndepth = \",ndepth,\")=> Average percentage difference: \", str(val)[:6])\n",
    "    return val\n"
   ]
  },
  {
   "cell_type": "code",
   "execution_count": 8,
   "metadata": {},
   "outputs": [
    {
     "output_type": "stream",
     "name": "stdout",
     "text": [
      "(ntrees =  100 , ndepth =  10 )=> Average percentage difference:  0.0883\n",
      "Wall time: 1.51 s\n",
      "(ntrees =  100 , ndepth =  15 )=> Average percentage difference:  0.0776\n",
      "Wall time: 1.86 s\n",
      "(ntrees =  100 , ndepth =  20 )=> Average percentage difference:  0.0772\n",
      "Wall time: 1.91 s\n",
      "(ntrees =  500 , ndepth =  10 )=> Average percentage difference:  0.0882\n",
      "Wall time: 7.41 s\n",
      "(ntrees =  500 , ndepth =  15 )=> Average percentage difference:  0.0768\n",
      "Wall time: 9.3 s\n",
      "(ntrees =  500 , ndepth =  20 )=> Average percentage difference:  0.0767\n",
      "Wall time: 9.27 s\n",
      "(ntrees =  1000 , ndepth =  10 )=> Average percentage difference:  0.0885\n",
      "Wall time: 15.2 s\n",
      "(ntrees =  1000 , ndepth =  15 )=> Average percentage difference:  0.0767\n",
      "Wall time: 18.3 s\n",
      "(ntrees =  1000 , ndepth =  20 )=> Average percentage difference:  0.0764\n",
      "Wall time: 18.7 s\n"
     ]
    }
   ],
   "source": [
    "  # %%timeit -r1 -n1\n",
    "new_train = pd.read_csv(\"train.csv\")\n",
    "preprocessDataFrame(new_train)  # not strictly needed, but usefull if we change the ones used further up\n",
    "fit_cols= ['zipcode', 'floors', 'housetype', 'garage', 'lotarea', 'livingarea', 'Nbathroom', 'yearbuilt', 'yearsale', 'monthsale']\n",
    "fit_goal= 'price'\n",
    "for t in [100, 500, 1000]:\n",
    "    for d in [10, 15, 20]:\n",
    "        %time BDT_fit_CV(new_train, fit_cols, fit_goal, ntrees=t, ndepth=d)"
   ]
  },
  {
   "cell_type": "code",
   "execution_count": 9,
   "metadata": {},
   "outputs": [
    {
     "output_type": "stream",
     "name": "stdout",
     "text": [
      "0.21565358071888832\n"
     ]
    },
    {
     "output_type": "execute_result",
     "data": {
      "text/plain": [
       "      id          price           pred      diff\n",
       "0   5001  178840.192056  195000.000000  0.090359\n",
       "1   5002  126237.083519  127500.000000  0.010004\n",
       "2   5003  105365.939791  150500.000000  0.428355\n",
       "3   5004  671534.079901  682000.000000  0.015585\n",
       "4   5005  281313.604443  226333.333333 -0.195441\n",
       "5   5006  107970.907511  132000.000000  0.222552\n",
       "6   5007  626401.934568  620500.000000 -0.009422\n",
       "7   5008  375247.108644  303136.363636 -0.192169\n",
       "8   5009  435439.921966  437500.000000  0.004731\n",
       "9   5010  522274.971811  528500.000000  0.011919\n",
       "10  5011  358437.096409  371000.000000  0.035049\n",
       "11  5012  266073.602583  211000.000000 -0.206986\n",
       "12  5013  400755.256051  374500.000000 -0.065514\n",
       "13  5014  493504.161841  455750.000000 -0.076502\n",
       "14  5015  498028.023757  580000.000000  0.164593\n",
       "15  5016  124673.246851  118500.000000 -0.049515\n",
       "16  5017  433099.103034  420162.162162 -0.029871\n",
       "17  5018  614867.340194  567500.000000 -0.077037\n",
       "18  5019  210434.928205  175000.000000 -0.168389\n",
       "19  5020  473682.915350  441500.000000 -0.067942"
      ],
      "text/html": "<div>\n<style scoped>\n    .dataframe tbody tr th:only-of-type {\n        vertical-align: middle;\n    }\n\n    .dataframe tbody tr th {\n        vertical-align: top;\n    }\n\n    .dataframe thead th {\n        text-align: right;\n    }\n</style>\n<table border=\"1\" class=\"dataframe\">\n  <thead>\n    <tr style=\"text-align: right;\">\n      <th></th>\n      <th>id</th>\n      <th>price</th>\n      <th>pred</th>\n      <th>diff</th>\n    </tr>\n  </thead>\n  <tbody>\n    <tr>\n      <th>0</th>\n      <td>5001</td>\n      <td>178840.192056</td>\n      <td>195000.000000</td>\n      <td>0.090359</td>\n    </tr>\n    <tr>\n      <th>1</th>\n      <td>5002</td>\n      <td>126237.083519</td>\n      <td>127500.000000</td>\n      <td>0.010004</td>\n    </tr>\n    <tr>\n      <th>2</th>\n      <td>5003</td>\n      <td>105365.939791</td>\n      <td>150500.000000</td>\n      <td>0.428355</td>\n    </tr>\n    <tr>\n      <th>3</th>\n      <td>5004</td>\n      <td>671534.079901</td>\n      <td>682000.000000</td>\n      <td>0.015585</td>\n    </tr>\n    <tr>\n      <th>4</th>\n      <td>5005</td>\n      <td>281313.604443</td>\n      <td>226333.333333</td>\n      <td>-0.195441</td>\n    </tr>\n    <tr>\n      <th>5</th>\n      <td>5006</td>\n      <td>107970.907511</td>\n      <td>132000.000000</td>\n      <td>0.222552</td>\n    </tr>\n    <tr>\n      <th>6</th>\n      <td>5007</td>\n      <td>626401.934568</td>\n      <td>620500.000000</td>\n      <td>-0.009422</td>\n    </tr>\n    <tr>\n      <th>7</th>\n      <td>5008</td>\n      <td>375247.108644</td>\n      <td>303136.363636</td>\n      <td>-0.192169</td>\n    </tr>\n    <tr>\n      <th>8</th>\n      <td>5009</td>\n      <td>435439.921966</td>\n      <td>437500.000000</td>\n      <td>0.004731</td>\n    </tr>\n    <tr>\n      <th>9</th>\n      <td>5010</td>\n      <td>522274.971811</td>\n      <td>528500.000000</td>\n      <td>0.011919</td>\n    </tr>\n    <tr>\n      <th>10</th>\n      <td>5011</td>\n      <td>358437.096409</td>\n      <td>371000.000000</td>\n      <td>0.035049</td>\n    </tr>\n    <tr>\n      <th>11</th>\n      <td>5012</td>\n      <td>266073.602583</td>\n      <td>211000.000000</td>\n      <td>-0.206986</td>\n    </tr>\n    <tr>\n      <th>12</th>\n      <td>5013</td>\n      <td>400755.256051</td>\n      <td>374500.000000</td>\n      <td>-0.065514</td>\n    </tr>\n    <tr>\n      <th>13</th>\n      <td>5014</td>\n      <td>493504.161841</td>\n      <td>455750.000000</td>\n      <td>-0.076502</td>\n    </tr>\n    <tr>\n      <th>14</th>\n      <td>5015</td>\n      <td>498028.023757</td>\n      <td>580000.000000</td>\n      <td>0.164593</td>\n    </tr>\n    <tr>\n      <th>15</th>\n      <td>5016</td>\n      <td>124673.246851</td>\n      <td>118500.000000</td>\n      <td>-0.049515</td>\n    </tr>\n    <tr>\n      <th>16</th>\n      <td>5017</td>\n      <td>433099.103034</td>\n      <td>420162.162162</td>\n      <td>-0.029871</td>\n    </tr>\n    <tr>\n      <th>17</th>\n      <td>5018</td>\n      <td>614867.340194</td>\n      <td>567500.000000</td>\n      <td>-0.077037</td>\n    </tr>\n    <tr>\n      <th>18</th>\n      <td>5019</td>\n      <td>210434.928205</td>\n      <td>175000.000000</td>\n      <td>-0.168389</td>\n    </tr>\n    <tr>\n      <th>19</th>\n      <td>5020</td>\n      <td>473682.915350</td>\n      <td>441500.000000</td>\n      <td>-0.067942</td>\n    </tr>\n  </tbody>\n</table>\n</div>"
     },
     "metadata": {},
     "execution_count": 9
    }
   ],
   "source": [
    "df = pd.read_csv(\"example_submission.csv\")\n",
    "tmp = pd.read_csv(\"markusMuellenmeister_submission.csv\")\n",
    "df['pred'] = tmp['price']\n",
    "df['diff'] = (df['pred']-df['price'])/df['price']\n",
    "print(df['diff'].abs().mean())\n",
    "df.head(20)"
   ]
  }
 ]
}