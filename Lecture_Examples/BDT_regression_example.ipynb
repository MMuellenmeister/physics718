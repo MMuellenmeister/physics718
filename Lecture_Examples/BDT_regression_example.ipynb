{
 "metadata": {
  "language_info": {
   "codemirror_mode": {
    "name": "ipython",
    "version": 3
   },
   "file_extension": ".py",
   "mimetype": "text/x-python",
   "name": "python",
   "nbconvert_exporter": "python",
   "pygments_lexer": "ipython3",
   "version": "3.7.10"
  },
  "orig_nbformat": 2,
  "kernelspec": {
   "name": "python3710jvsc74a57bd0dd810a07927d688b952eea674bac425490fc1731495ebf2e65af4d64a6941b05",
   "display_name": "Python 3.7.10 64-bit ('physics718': conda)"
  }
 },
 "nbformat": 4,
 "nbformat_minor": 2,
 "cells": [
  {
   "cell_type": "code",
   "execution_count": null,
   "metadata": {},
   "outputs": [],
   "source": [
    "import numpy as np\n",
    "from sklearn.metrics import mean_squared_error\n",
    "from sklearn.ensemble import AdaBoostRegressor\n",
    "from sklearn.datasets import make_regression\n",
    "import pandas as pd\n",
    "X, Y = make_regression(n_features=5, n_informative=4,\n",
    "random_state=123, shuffle=False, n_samples=5000)\n",
    "# we skip the important task of feature engineering and take the data sample as is\n",
    "# For an example with feature engineering see the house price example\n",
    "print(\"XY shape\",X.shape,Y.shape)"
   ]
  },
  {
   "cell_type": "code",
   "execution_count": null,
   "metadata": {},
   "outputs": [],
   "source": [
    "df = pd.DataFrame({'x0':X[:,0],'x1':X[:,1],'x2':X[:,2],'x3':X[:,3],'x4':X[:,4],'y':Y })\n",
    "print(df.head(10))\n",
    "for col in df.columns: df.plot.scatter(x=col,y='y')"
   ]
  },
  {
   "cell_type": "code",
   "execution_count": null,
   "metadata": {},
   "outputs": [],
   "source": [
    "BDT = AdaBoostRegressor(n_estimators=100)\n",
    "BDT.fit(X, Y)\n",
    "Y_pred = BDT.predict(X)\n",
    "df['pred'] = Y_pred\n",
    "df.plot.scatter(x='pred',y='y')"
   ]
  },
  {
   "cell_type": "code",
   "execution_count": null,
   "metadata": {},
   "outputs": [],
   "source": [
    "df['diff'] = df['y']-df['pred']\n",
    "df['diff'].hist(bins=100)"
   ]
  },
  {
   "cell_type": "code",
   "execution_count": null,
   "metadata": {},
   "outputs": [],
   "source": [
    "from sklearn.tree import DecisionTreeRegressor as DTR\n",
    "# hyperparameter scan by hand based on independent dataset\n",
    "ntrain = 3000\n",
    "Xtrain,Ytrain = X[:ntrain],Y[:ntrain] # split train data into train and test\n",
    "Xtest,Ytest = X[ntrain:],Y[ntrain:]\n",
    "\n",
    "for ndepth in [2,3,5]:\n",
    "    for ntree in [50,100,200]:\n",
    "        BDT = AdaBoostRegressor(n_estimators=ntree,base_estimator=DTR(max_depth=ndepth))\n",
    "        BDT.fit(Xtrain,Ytrain)\n",
    "        score = BDT.score(Xtest, Ytest)\n",
    "        print(\"performance scan, ntree:\",ntree,\"ndepth:\",ndepth,\"score:\",score)"
   ]
  },
  {
   "cell_type": "code",
   "execution_count": null,
   "metadata": {},
   "outputs": [],
   "source": [
    "from sklearn.tree import DecisionTreeRegressor as DTR\n",
    "from sklearn.model_selection import cross_val_score\n",
    "\n",
    "for ndepth in [2,3,5]:\n",
    "    for ntree in [50,100,200]:\n",
    "        BDT = AdaBoostRegressor(n_estimators=ntree,base_estimator=DTR(max_depth=ndepth))\n",
    "        score = cross_val_score(BDT, X, Y, cv=2).mean()   # cv=5 is consensus for good performance\n",
    "        print(\"performance scan, ntree:\",ntree,\"ndepth:\",ndepth,\"score:\",score)"
   ]
  },
  {
   "cell_type": "code",
   "execution_count": null,
   "metadata": {},
   "outputs": [],
   "source": [
    "# take maximum parameter set and perform fit with full training data to obtain best regressor\n",
    "ntree,ndepth = 200,5\n",
    "BDT = AdaBoostRegressor(n_estimators=ntree,base_estimator=DTR(max_depth=ndepth))\n",
    "bestregressor = BDT.fit(X,Y)\n",
    "# question: what is the performance of the best regressor?\n",
    "# we cannot use score = BDT.score(X, Y), because this gives us biased training performance\n",
    "# we would need another independent sample to make a performance estimate"
   ]
  }
 ]
}