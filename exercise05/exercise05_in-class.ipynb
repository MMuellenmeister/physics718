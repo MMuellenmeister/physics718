{
 "metadata": {
  "language_info": {
   "codemirror_mode": {
    "name": "ipython",
    "version": 3
   },
   "file_extension": ".py",
   "mimetype": "text/x-python",
   "name": "python",
   "nbconvert_exporter": "python",
   "pygments_lexer": "ipython3",
   "version": "3.7.10"
  },
  "orig_nbformat": 4,
  "kernelspec": {
   "name": "python3",
   "display_name": "Python 3.7.10 64-bit"
  },
  "interpreter": {
   "hash": "c7ed0d4505f5c5fddf6a872a700a41494a8e78f563e4faa0d2bb14c1d28b44e1"
  }
 },
 "nbformat": 4,
 "nbformat_minor": 2,
 "cells": [
  {
   "cell_type": "code",
   "execution_count": 1,
   "metadata": {},
   "outputs": [
    {
     "output_type": "stream",
     "name": "stderr",
     "text": [
      "D:\\Programme\\Python3_8_MiniConda\\envs\\physics718\\lib\\site-packages\\tensorflow\\python\\framework\\dtypes.py:516: FutureWarning: Passing (type, 1) or '1type' as a synonym of type is deprecated; in a future version of numpy, it will be understood as (type, (1,)) / '(1,)type'.\n",
      "  _np_qint8 = np.dtype([(\"qint8\", np.int8, 1)])\n",
      "D:\\Programme\\Python3_8_MiniConda\\envs\\physics718\\lib\\site-packages\\tensorflow\\python\\framework\\dtypes.py:517: FutureWarning: Passing (type, 1) or '1type' as a synonym of type is deprecated; in a future version of numpy, it will be understood as (type, (1,)) / '(1,)type'.\n",
      "  _np_quint8 = np.dtype([(\"quint8\", np.uint8, 1)])\n",
      "D:\\Programme\\Python3_8_MiniConda\\envs\\physics718\\lib\\site-packages\\tensorflow\\python\\framework\\dtypes.py:518: FutureWarning: Passing (type, 1) or '1type' as a synonym of type is deprecated; in a future version of numpy, it will be understood as (type, (1,)) / '(1,)type'.\n",
      "  _np_qint16 = np.dtype([(\"qint16\", np.int16, 1)])\n",
      "D:\\Programme\\Python3_8_MiniConda\\envs\\physics718\\lib\\site-packages\\tensorflow\\python\\framework\\dtypes.py:519: FutureWarning: Passing (type, 1) or '1type' as a synonym of type is deprecated; in a future version of numpy, it will be understood as (type, (1,)) / '(1,)type'.\n",
      "  _np_quint16 = np.dtype([(\"quint16\", np.uint16, 1)])\n",
      "D:\\Programme\\Python3_8_MiniConda\\envs\\physics718\\lib\\site-packages\\tensorflow\\python\\framework\\dtypes.py:520: FutureWarning: Passing (type, 1) or '1type' as a synonym of type is deprecated; in a future version of numpy, it will be understood as (type, (1,)) / '(1,)type'.\n",
      "  _np_qint32 = np.dtype([(\"qint32\", np.int32, 1)])\n",
      "D:\\Programme\\Python3_8_MiniConda\\envs\\physics718\\lib\\site-packages\\tensorflow\\python\\framework\\dtypes.py:525: FutureWarning: Passing (type, 1) or '1type' as a synonym of type is deprecated; in a future version of numpy, it will be understood as (type, (1,)) / '(1,)type'.\n",
      "  np_resource = np.dtype([(\"resource\", np.ubyte, 1)])\n",
      "D:\\Programme\\Python3_8_MiniConda\\envs\\physics718\\lib\\site-packages\\tensorboard\\compat\\tensorflow_stub\\dtypes.py:541: FutureWarning: Passing (type, 1) or '1type' as a synonym of type is deprecated; in a future version of numpy, it will be understood as (type, (1,)) / '(1,)type'.\n",
      "  _np_qint8 = np.dtype([(\"qint8\", np.int8, 1)])\n",
      "D:\\Programme\\Python3_8_MiniConda\\envs\\physics718\\lib\\site-packages\\tensorboard\\compat\\tensorflow_stub\\dtypes.py:542: FutureWarning: Passing (type, 1) or '1type' as a synonym of type is deprecated; in a future version of numpy, it will be understood as (type, (1,)) / '(1,)type'.\n",
      "  _np_quint8 = np.dtype([(\"quint8\", np.uint8, 1)])\n",
      "D:\\Programme\\Python3_8_MiniConda\\envs\\physics718\\lib\\site-packages\\tensorboard\\compat\\tensorflow_stub\\dtypes.py:543: FutureWarning: Passing (type, 1) or '1type' as a synonym of type is deprecated; in a future version of numpy, it will be understood as (type, (1,)) / '(1,)type'.\n",
      "  _np_qint16 = np.dtype([(\"qint16\", np.int16, 1)])\n",
      "D:\\Programme\\Python3_8_MiniConda\\envs\\physics718\\lib\\site-packages\\tensorboard\\compat\\tensorflow_stub\\dtypes.py:544: FutureWarning: Passing (type, 1) or '1type' as a synonym of type is deprecated; in a future version of numpy, it will be understood as (type, (1,)) / '(1,)type'.\n",
      "  _np_quint16 = np.dtype([(\"quint16\", np.uint16, 1)])\n",
      "D:\\Programme\\Python3_8_MiniConda\\envs\\physics718\\lib\\site-packages\\tensorboard\\compat\\tensorflow_stub\\dtypes.py:545: FutureWarning: Passing (type, 1) or '1type' as a synonym of type is deprecated; in a future version of numpy, it will be understood as (type, (1,)) / '(1,)type'.\n",
      "  _np_qint32 = np.dtype([(\"qint32\", np.int32, 1)])\n",
      "D:\\Programme\\Python3_8_MiniConda\\envs\\physics718\\lib\\site-packages\\tensorboard\\compat\\tensorflow_stub\\dtypes.py:550: FutureWarning: Passing (type, 1) or '1type' as a synonym of type is deprecated; in a future version of numpy, it will be understood as (type, (1,)) / '(1,)type'.\n",
      "  np_resource = np.dtype([(\"resource\", np.ubyte, 1)])\n"
     ]
    }
   ],
   "source": [
    "import pandas as pd\n",
    "import numpy as np\n",
    "\n",
    "import tensorflow.keras\n",
    "from tensorflow.keras import Sequential as Sequential\n",
    "import tensorflow.keras.layers as layers"
   ]
  },
  {
   "source": [
    "## Loading dataset"
   ],
   "cell_type": "markdown",
   "metadata": {}
  },
  {
   "cell_type": "code",
   "execution_count": 6,
   "metadata": {},
   "outputs": [
    {
     "output_type": "stream",
     "name": "stdout",
     "text": [
      "<class 'pandas.core.frame.DataFrame'>\nRangeIndex: 10001 entries, 0 to 10000\nData columns (total 33 columns):\n #   Column               Non-Null Count  Dtype  \n---  ------               --------------  -----  \n 0   LifeTime             10001 non-null  float64\n 1   FlightDistance       10001 non-null  float64\n 2   FlightDistanceError  10001 non-null  float64\n 3   IP                   10001 non-null  float64\n 4   VertexChi2           10001 non-null  float64\n 5   pt                   10001 non-null  float64\n 6   DOCAone              10001 non-null  float64\n 7   DOCAtwo              10001 non-null  float64\n 8   DOCAthree            10001 non-null  float64\n 9   IP_p0p2              10001 non-null  float64\n 10  IP_p1p2              10001 non-null  float64\n 11  isolationa           10001 non-null  int64  \n 12  isolationb           10001 non-null  int64  \n 13  isolationc           10001 non-null  int64  \n 14  CDF1                 10001 non-null  float64\n 15  CDF2                 10001 non-null  float64\n 16  CDF3                 10001 non-null  float64\n 17  p0_IP                10001 non-null  float64\n 18  p1_IP                10001 non-null  float64\n 19  p2_IP                10001 non-null  float64\n 20  p0_IPSig             10001 non-null  float64\n 21  p1_IPSig             10001 non-null  float64\n 22  p2_IPSig             10001 non-null  float64\n 23  p0_pt                10001 non-null  float64\n 24  p1_pt                10001 non-null  float64\n 25  p2_pt                10001 non-null  float64\n 26  p0_p                 10001 non-null  float64\n 27  p1_p                 10001 non-null  float64\n 28  p2_p                 10001 non-null  float64\n 29  p0_eta               10001 non-null  float64\n 30  p1_eta               10001 non-null  float64\n 31  p2_eta               10001 non-null  float64\n 32  signal               10001 non-null  int64  \ndtypes: float64(29), int64(4)\nmemory usage: 2.5 MB\n"
     ]
    }
   ],
   "source": [
    "df = pd.read_csv('train.csv')\n",
    "df.head()\n",
    "cols_n = df.columns.values\n",
    "df.info()"
   ]
  },
  {
   "source": [
    "## Transforming features"
   ],
   "cell_type": "markdown",
   "metadata": {}
  },
  {
   "cell_type": "code",
   "execution_count": 3,
   "metadata": {},
   "outputs": [
    {
     "output_type": "stream",
     "name": "stdout",
     "text": [
      "[[9.85366176e-04 1.00298471e+01 3.43366027e-01 ... 3.16042209e+00\n  2.75811648e+00 2.76095486e+00]\n [5.33150509e-04 1.15073938e+01 7.00662017e-01 ... 3.49505711e+00\n  4.08623981e+00 3.45623326e+00]\n [2.46602017e-03 1.64100037e+01 4.04927462e-01 ... 3.76575851e+00\n  3.17969036e+00 2.85043478e+00]\n ...\n [5.85318252e-04 5.30118752e+00 3.27816844e-01 ... 3.50842810e+00\n  2.81191301e+00 3.37027335e+00]\n [4.67951875e-04 1.03652992e+01 1.15061641e+00 ... 3.57180691e+00\n  4.27784300e+00 3.86763835e+00]\n [2.71984539e-03 1.64097157e+01 1.72801018e-01 ... 2.31482935e+00\n  2.33921742e+00 2.10752225e+00]]\n(10001, 32)\n[[0.44172596 0.47009413 0.4697109  ... 0.45002673 0.25587871 0.2353541 ]\n [0.10445369 0.53797549 0.8101436  ... 0.65268083 0.92109174 0.64730934]\n [0.93190534 0.70271303 0.56865668 ... 0.78744371 0.50860115 0.28508633]\n ...\n [0.14077948 0.18768081 0.44066123 ... 0.66025846 0.28789067 0.60057343]\n [0.065856   0.48573559 0.92727915 ... 0.69296045 0.96121596 0.84334694]\n [0.95215982 0.70270254 0.09209229 ... 0.03858719 0.06956876 0.01053561]]\n"
     ]
    }
   ],
   "source": [
    "from sklearn.preprocessing import QuantileTransformer\n",
    "\n",
    "cols = df.columns[:-1]\n",
    "\n",
    "Xraw = df[cols].to_numpy()\n",
    "Y = df['signal'].to_numpy()\n",
    "\n",
    "print(Xraw)\n",
    "print(Xraw.shape)\n",
    "\n",
    "X = QuantileTransformer().fit_transform(Xraw)\n",
    "\n",
    "print(X)"
   ]
  },
  {
   "source": [
    "## Splitting into training and testing data"
   ],
   "cell_type": "markdown",
   "metadata": {}
  },
  {
   "cell_type": "code",
   "execution_count": 4,
   "metadata": {},
   "outputs": [],
   "source": [
    "from sklearn.model_selection import train_test_split\n",
    "\n",
    "Xtrain, Xtest, Ytrain, Ytest = train_test_split(X, Y, test_size=0.2)"
   ]
  },
  {
   "cell_type": "code",
   "execution_count": 5,
   "metadata": {},
   "outputs": [],
   "source": [
    "# this function calculates a simple score to evaluate the performance of your neural network\n",
    "def SimpleScore(model, xtest, ytest):\n",
    "    pred = model.predict(xtest)\n",
    "\n",
    "    if (pred.shape != ytest.shape): # important! prevents broadcasting\n",
    "        pred=pred.reshape(ytest.shape) \n",
    "\n",
    "    diff = np.abs(pred - np.clip(ytest,0,1))\n",
    "    \n",
    "    return np.mean(np.less(diff,0.5))  "
   ]
  },
  {
   "source": [
    "## Implementing neural network with two hidden layers"
   ],
   "cell_type": "markdown",
   "metadata": {}
  },
  {
   "cell_type": "code",
   "execution_count": null,
   "metadata": {},
   "outputs": [],
   "source": []
  },
  {
   "source": [
    "## Implementing neural network with four hidden layers"
   ],
   "cell_type": "markdown",
   "metadata": {}
  },
  {
   "cell_type": "code",
   "execution_count": null,
   "metadata": {},
   "outputs": [],
   "source": []
  }
 ]
}