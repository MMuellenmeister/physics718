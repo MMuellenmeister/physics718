{
 "cells": [
  {
   "cell_type": "markdown",
   "metadata": {},
   "source": [
    "# Attendance Exercise 02\n",
    "\n",
    "In this exercise we will some of the basics of  object-oriented programming (OOP), which offer a way to bundle together data and functions that operate on that data, modifying the internal _state_ of the object.\n",
    "\n",
    "To test your solutions, check out the tests at the end of the exercise."
   ]
  },
  {
   "cell_type": "code",
   "execution_count": 1,
   "metadata": {},
   "outputs": [],
   "source": [
    "%load_ext autoreload\n",
    "%autoreload 2\n",
    "import unittest\n",
    "\n",
    "# following is needed for Polygon drawing\n",
    "import matplotlib.pyplot as plt\n",
    "import numpy as np\n",
    "\n",
    "from vector_2d import Vector2D\n",
    "from utils import print_python_code"
   ]
  },
  {
   "cell_type": "markdown",
   "metadata": {},
   "source": [
    "## 1. Simple class `Person`\n",
    "\n",
    "In their most simple form classes can be used as a data record. Their data is stored in attributes (member variables, denoted with `self.<varname>` where `self` is stands for the instance of the class)."
   ]
  },
  {
   "cell_type": "code",
   "execution_count": 2,
   "metadata": {},
   "outputs": [],
   "source": [
    "class Person():\n",
    "    def __init__(self, first_name, last_name, age):\n",
    "        if not isinstance(first_name, str) or not isinstance(last_name, str) or not isinstance(age, int):\n",
    "            raise ValueError\n",
    "        self.first_name = first_name\n",
    "        self.last_name = last_name\n",
    "        self.age = age\n",
    "\n",
    "    def full_name(self):\n",
    "        \"\"\"Returns full name (`<first name> <last name>` as string)\"\"\"\n",
    "        return self.first_name + \" \" + self.last_name\n",
    "        \n",
    "    def say_hello(self):\n",
    "        \"\"\"Prints `Hello <first name> <last name>`\"\"\"\n",
    "        print(\"Hello \" + self.full_name())\n",
    "\n",
    "\n",
    "    def older_than(self, other):\n",
    "        \"\"\"Return ``True`` if Person is older than other person\"\"\"\n",
    "        return self.age > other.age\n",
    "\n",
    "    \n",
    "    def __gt__(self, other):\n",
    "        return self.older_than(other)\n",
    "\n",
    "    \n",
    "    def __str__(self):\n",
    "        return self.full_name()"
   ]
  },
  {
   "cell_type": "code",
   "execution_count": 3,
   "metadata": {},
   "outputs": [
    {
     "output_type": "stream",
     "name": "stdout",
     "text": [
      "Brian Kernighan\n"
     ]
    }
   ],
   "source": [
    "person1 = Person(\"Brian\", \"Kernighan\", 79)\n",
    "print(person1)"
   ]
  },
  {
   "cell_type": "code",
   "execution_count": 4,
   "metadata": {},
   "outputs": [
    {
     "output_type": "stream",
     "name": "stdout",
     "text": [
      "Brian Kernighan 79\n"
     ]
    }
   ],
   "source": [
    "print(person1.first_name, person1.last_name, person1.age)"
   ]
  },
  {
   "cell_type": "code",
   "execution_count": 5,
   "metadata": {},
   "outputs": [
    {
     "output_type": "stream",
     "name": "stdout",
     "text": [
      "Hello Brian Kernighan\nBrian Kernighan\n"
     ]
    }
   ],
   "source": [
    "person1.say_hello()\n",
    "print(person1)"
   ]
  },
  {
   "cell_type": "code",
   "execution_count": 6,
   "metadata": {},
   "outputs": [
    {
     "output_type": "stream",
     "name": "stdout",
     "text": [
      "Margaret Hamilton\n"
     ]
    }
   ],
   "source": [
    "person2 = Person(\"Margaret\", \"Hamilton\", 84)\n",
    "print(person2)"
   ]
  },
  {
   "cell_type": "code",
   "execution_count": 7,
   "metadata": {},
   "outputs": [
    {
     "output_type": "execute_result",
     "data": {
      "text/plain": [
       "True"
      ]
     },
     "metadata": {},
     "execution_count": 7
    }
   ],
   "source": [
    "person2.older_than(person1)"
   ]
  },
  {
   "cell_type": "code",
   "execution_count": 8,
   "metadata": {},
   "outputs": [
    {
     "output_type": "execute_result",
     "data": {
      "text/plain": [
       "True"
      ]
     },
     "metadata": {},
     "execution_count": 8
    }
   ],
   "source": [
    "person2 > person1"
   ]
  },
  {
   "cell_type": "code",
   "execution_count": 9,
   "metadata": {},
   "outputs": [
    {
     "output_type": "stream",
     "name": "stderr",
     "text": [
      "test_attributes (__main__.TestPerson) ... ok\n",
      "test_full_name (__main__.TestPerson) ... ok\n",
      "test_older_than (__main__.TestPerson) ... ok\n",
      "test_say_hello (__main__.TestPerson) ... ok\n",
      "test_str (__main__.TestPerson) ... ok\n",
      "\n",
      "----------------------------------------------------------------------\n",
      "Ran 5 tests in 0.008s\n",
      "\n",
      "OK\n"
     ]
    },
    {
     "output_type": "execute_result",
     "data": {
      "text/plain": [
       "<unittest.runner.TextTestResult run=5 errors=0 failures=0>"
      ]
     },
     "metadata": {},
     "execution_count": 9
    }
   ],
   "source": [
    "import io\n",
    "from contextlib import redirect_stdout\n",
    "    \n",
    "class TestPerson(unittest.TestCase):\n",
    "    def setUp(self):\n",
    "        self.person1 = Person(\"Brian\", \"Kernighan\", 79)\n",
    "        self.person2 = Person(\"Margaret\", \"Hamilton\", 84)\n",
    "    \n",
    "    def test_attributes(self):\n",
    "        self.assertEqual(self.person1.first_name, \"Brian\")\n",
    "        self.assertEqual(self.person1.last_name, \"Kernighan\")\n",
    "        self.assertEqual(self.person1.age, 79)\n",
    "    \n",
    "    def test_full_name(self):\n",
    "        self.assertEqual(self.person2.full_name(), \"Margaret Hamilton\")\n",
    "        \n",
    "    def test_str(self):\n",
    "        self.assertEqual(str(self.person2), self.person2.full_name())\n",
    "        \n",
    "    def test_say_hello(self):\n",
    "        out = io.StringIO()\n",
    "        with redirect_stdout(out):\n",
    "            self.person2.say_hello()\n",
    "        self.assertEqual(out.getvalue().strip(), \"Hello Margaret Hamilton\")\n",
    "    \n",
    "    def test_older_than(self):\n",
    "        self.assertFalse(self.person1.older_than(person2))\n",
    "        self.assertTrue(self.person2.older_than(person1))\n",
    "        \n",
    "        \n",
    "suite = unittest.defaultTestLoader.loadTestsFromTestCase(TestPerson)\n",
    "runner = unittest.TextTestRunner(verbosity=2)\n",
    "runner.run(suite)"
   ]
  },
  {
   "cell_type": "markdown",
   "metadata": {},
   "source": [
    "## 2. Extending a class\n",
    "\n",
    "In the lecture you have seen the class `Vector2D`, which I have included in the module `vector_2d`."
   ]
  },
  {
   "cell_type": "code",
   "execution_count": 10,
   "metadata": {
    "tags": []
   },
   "outputs": [
    {
     "output_type": "stream",
     "name": "stdout",
     "text": [
      "\u001b[38;5;28;01mclass\u001b[39;00m \u001b[38;5;21;01mVector2D\u001b[39;00m:\n    \u001b[38;5;66;03m# class initialisation\u001b[39;00m\n    \u001b[38;5;28;01mdef\u001b[39;00m \u001b[38;5;21m__init__\u001b[39m(\u001b[38;5;28mself\u001b[39m, x, y):\n        \u001b[38;5;28mself\u001b[39m\u001b[38;5;241m.\u001b[39mx \u001b[38;5;241m=\u001b[39m x\n        \u001b[38;5;28mself\u001b[39m\u001b[38;5;241m.\u001b[39my \u001b[38;5;241m=\u001b[39m y\n\n    \u001b[38;5;28;01mdef\u001b[39;00m \u001b[38;5;21mcopy\u001b[39m(\u001b[38;5;28mself\u001b[39m):\n        \u001b[38;5;28;01mreturn\u001b[39;00m Vector2D(\u001b[38;5;28mself\u001b[39m\u001b[38;5;241m.\u001b[39mx, \u001b[38;5;28mself\u001b[39m\u001b[38;5;241m.\u001b[39my)\n\n    \u001b[38;5;28;01mdef\u001b[39;00m \u001b[38;5;21m__str__\u001b[39m(\u001b[38;5;28mself\u001b[39m):\n        \u001b[38;5;28;01mreturn\u001b[39;00m (\n            \u001b[38;5;124m\"\u001b[39m\u001b[38;5;124mx:\u001b[39m\u001b[38;5;124m\"\u001b[39m \u001b[38;5;241m+\u001b[39m \u001b[38;5;28mstr\u001b[39m(\u001b[38;5;28mself\u001b[39m\u001b[38;5;241m.\u001b[39mx) \u001b[38;5;241m+\u001b[39m \u001b[38;5;124m\"\u001b[39m\u001b[38;5;124m, y:\u001b[39m\u001b[38;5;124m\"\u001b[39m \u001b[38;5;241m+\u001b[39m \u001b[38;5;28mstr\u001b[39m(\u001b[38;5;28mself\u001b[39m\u001b[38;5;241m.\u001b[39my)\n        )  \u001b[38;5;66;03m# Human-readable string representation of the vector.\u001b[39;00m\n\n    \u001b[38;5;28;01mdef\u001b[39;00m \u001b[38;5;21m__repr__\u001b[39m(\u001b[38;5;28mself\u001b[39m):\n        \u001b[38;5;28;01mreturn\u001b[39;00m \u001b[38;5;124mf\u001b[39m\u001b[38;5;124m\"\u001b[39m\u001b[38;5;132;01m{\u001b[39;00m\u001b[38;5;28mself\u001b[39m\u001b[38;5;241m.\u001b[39m\u001b[38;5;18m__class__\u001b[39m\u001b[38;5;241m.\u001b[39m\u001b[38;5;18m__name__\u001b[39m\u001b[38;5;132;01m}\u001b[39;00m\u001b[38;5;124m(\u001b[39m\u001b[38;5;132;01m{\u001b[39;00m\u001b[38;5;28mself\u001b[39m\u001b[38;5;241m.\u001b[39m\u001b[38;5;21m__str__\u001b[39m()\u001b[38;5;132;01m}\u001b[39;00m\u001b[38;5;124m)\u001b[39m\u001b[38;5;124m\"\u001b[39m\n\n    \u001b[38;5;28;01mdef\u001b[39;00m \u001b[38;5;21m__add__\u001b[39m(\u001b[38;5;28mself\u001b[39m, other):\n        \u001b[38;5;28;01mreturn\u001b[39;00m Vector2D(\u001b[38;5;28mself\u001b[39m\u001b[38;5;241m.\u001b[39mx \u001b[38;5;241m+\u001b[39m other\u001b[38;5;241m.\u001b[39mx, \u001b[38;5;28mself\u001b[39m\u001b[38;5;241m.\u001b[39my \u001b[38;5;241m+\u001b[39m other\u001b[38;5;241m.\u001b[39my)\n\n    \u001b[38;5;28;01mdef\u001b[39;00m \u001b[38;5;21m__sub__\u001b[39m(\u001b[38;5;28mself\u001b[39m, other):\n        \u001b[38;5;28;01mreturn\u001b[39;00m Vector2D(\u001b[38;5;28mself\u001b[39m\u001b[38;5;241m.\u001b[39mx \u001b[38;5;241m-\u001b[39m other\u001b[38;5;241m.\u001b[39mx, \u001b[38;5;28mself\u001b[39m\u001b[38;5;241m.\u001b[39my \u001b[38;5;241m-\u001b[39m other\u001b[38;5;241m.\u001b[39my)\n\n    \u001b[38;5;28;01mdef\u001b[39;00m \u001b[38;5;21m__eq__\u001b[39m(\u001b[38;5;28mself\u001b[39m, other):\n        \u001b[38;5;28;01mreturn\u001b[39;00m (\u001b[38;5;28mself\u001b[39m\u001b[38;5;241m.\u001b[39mx \u001b[38;5;241m==\u001b[39m other\u001b[38;5;241m.\u001b[39mx) \u001b[38;5;129;01mand\u001b[39;00m (\u001b[38;5;28mself\u001b[39m\u001b[38;5;241m.\u001b[39my \u001b[38;5;241m==\u001b[39m other\u001b[38;5;241m.\u001b[39my)\n\n    \u001b[38;5;28;01mdef\u001b[39;00m \u001b[38;5;21m__mul__\u001b[39m(\u001b[38;5;28mself\u001b[39m, other):  \u001b[38;5;66;03m# dot product or multiplication by scalar\u001b[39;00m\n        \u001b[38;5;28;01mif\u001b[39;00m \u001b[38;5;28misinstance\u001b[39m(other, Vector2D):\n            \u001b[38;5;28;01mreturn\u001b[39;00m \u001b[38;5;28mself\u001b[39m\u001b[38;5;241m.\u001b[39mx \u001b[38;5;241m*\u001b[39m other\u001b[38;5;241m.\u001b[39mx \u001b[38;5;241m+\u001b[39m \u001b[38;5;28mself\u001b[39m\u001b[38;5;241m.\u001b[39my \u001b[38;5;241m*\u001b[39m other\u001b[38;5;241m.\u001b[39my\n        \u001b[38;5;28;01mif\u001b[39;00m \u001b[38;5;28misinstance\u001b[39m(other, (\u001b[38;5;28mfloat\u001b[39m, \u001b[38;5;28mint\u001b[39m)):\n            \u001b[38;5;28;01mreturn\u001b[39;00m Vector2D(\u001b[38;5;28mself\u001b[39m\u001b[38;5;241m.\u001b[39mx \u001b[38;5;241m*\u001b[39m other, \u001b[38;5;28mself\u001b[39m\u001b[38;5;241m.\u001b[39my \u001b[38;5;241m*\u001b[39m other)\n        \u001b[38;5;28;01mraise\u001b[39;00m \u001b[38;5;167;01mNotImplementedError\u001b[39;00m(\n            \u001b[38;5;124m\"\u001b[39m\u001b[38;5;124mCan only multiply Vector2D by a scalar or another Vector2D\u001b[39m\u001b[38;5;124m\"\u001b[39m\n        )\n\n    \u001b[38;5;28;01mdef\u001b[39;00m \u001b[38;5;21m__rmul__\u001b[39m(\n        \u001b[38;5;28mself\u001b[39m, other\n    ):  \u001b[38;5;66;03m# Reverse multiplication so that vector * scalar also works.\u001b[39;00m\n        \u001b[38;5;28;01mreturn\u001b[39;00m \u001b[38;5;28mself\u001b[39m\u001b[38;5;241m.\u001b[39m\u001b[38;5;21m__mul__\u001b[39m(other)\n\n    \u001b[38;5;28;01mdef\u001b[39;00m \u001b[38;5;21m__truediv__\u001b[39m(\u001b[38;5;28mself\u001b[39m, other):\n        \u001b[38;5;28;01mreturn\u001b[39;00m Vector2D(\u001b[38;5;28mself\u001b[39m\u001b[38;5;241m.\u001b[39mx\u001b[38;5;241m/\u001b[39mother, \u001b[38;5;28mself\u001b[39m\u001b[38;5;241m.\u001b[39my\u001b[38;5;241m/\u001b[39mother)\n\n    \u001b[38;5;28;01mdef\u001b[39;00m \u001b[38;5;21m__neg__\u001b[39m(\u001b[38;5;28mself\u001b[39m):\n        \u001b[38;5;28;01mreturn\u001b[39;00m Vector2D(\u001b[38;5;241m-\u001b[39m\u001b[38;5;28mself\u001b[39m\u001b[38;5;241m.\u001b[39mx, \u001b[38;5;241m-\u001b[39m\u001b[38;5;28mself\u001b[39m\u001b[38;5;241m.\u001b[39my)\n\n    \u001b[38;5;28;01mdef\u001b[39;00m \u001b[38;5;21m__iadd__\u001b[39m(\u001b[38;5;28mself\u001b[39m, other):\n        \u001b[38;5;28mself\u001b[39m\u001b[38;5;241m.\u001b[39mx \u001b[38;5;241m+\u001b[39m\u001b[38;5;241m=\u001b[39m other\u001b[38;5;241m.\u001b[39mx\n        \u001b[38;5;28mself\u001b[39m\u001b[38;5;241m.\u001b[39my \u001b[38;5;241m+\u001b[39m\u001b[38;5;241m=\u001b[39m other\u001b[38;5;241m.\u001b[39my\n        \u001b[38;5;28;01mreturn\u001b[39;00m \u001b[38;5;28mself\u001b[39m  \u001b[38;5;66;03m# it is customary to have a return value for += operator\u001b[39;00m\n\n    \u001b[38;5;66;03m# end of operators\u001b[39;00m\n    \u001b[38;5;66;03m# class methods start here\u001b[39;00m\n    \u001b[38;5;28;01mdef\u001b[39;00m \u001b[38;5;21mmagnitude\u001b[39m(\u001b[38;5;28mself\u001b[39m):\n        \u001b[38;5;28;01mreturn\u001b[39;00m math\u001b[38;5;241m.\u001b[39msqrt(\u001b[38;5;28mself\u001b[39m\u001b[38;5;241m.\u001b[39mx \u001b[38;5;241m*\u001b[39m\u001b[38;5;241m*\u001b[39m \u001b[38;5;241m2\u001b[39m \u001b[38;5;241m+\u001b[39m \u001b[38;5;28mself\u001b[39m\u001b[38;5;241m.\u001b[39my \u001b[38;5;241m*\u001b[39m\u001b[38;5;241m*\u001b[39m \u001b[38;5;241m2\u001b[39m)\n\n    \u001b[38;5;21m__abs__\u001b[39m \u001b[38;5;241m=\u001b[39m magnitude\n\n    \u001b[38;5;28;01mdef\u001b[39;00m \u001b[38;5;21mdistance_to\u001b[39m(\u001b[38;5;28mself\u001b[39m, other):\n        \u001b[38;5;28;01mreturn\u001b[39;00m \u001b[38;5;28mabs\u001b[39m(\u001b[38;5;28mself\u001b[39m \u001b[38;5;241m-\u001b[39m other)\n\n    \u001b[38;5;28;01mdef\u001b[39;00m \u001b[38;5;21mto_polar\u001b[39m(\u001b[38;5;28mself\u001b[39m):\n        \u001b[38;5;28;01mreturn\u001b[39;00m \u001b[38;5;28mself\u001b[39m\u001b[38;5;241m.\u001b[39m\u001b[38;5;21m__abs__\u001b[39m(), math\u001b[38;5;241m.\u001b[39matan2(\u001b[38;5;28mself\u001b[39m\u001b[38;5;241m.\u001b[39my, \u001b[38;5;28mself\u001b[39m\u001b[38;5;241m.\u001b[39mx)\n\n    \u001b[38;5;28;01mdef\u001b[39;00m \u001b[38;5;21mnormal\u001b[39m(\u001b[38;5;28mself\u001b[39m):\n        \u001b[38;5;28;01mreturn\u001b[39;00m \u001b[38;5;28mself\u001b[39m\u001b[38;5;241m/\u001b[39m\u001b[38;5;28mself\u001b[39m\u001b[38;5;241m.\u001b[39mmagnitude()\n    \n    \u001b[38;5;28;01mdef\u001b[39;00m \u001b[38;5;21mangle_to\u001b[39m(\u001b[38;5;28mself\u001b[39m, other):\n        \u001b[38;5;66;03m#  if isinstance(other, Vector2D):\u001b[39;00m\n        \u001b[38;5;66;03m#      raise ValueError()\u001b[39;00m\n        \u001b[38;5;28;01mreturn\u001b[39;00m math\u001b[38;5;241m.\u001b[39matan(\u001b[38;5;28mself\u001b[39m\u001b[38;5;241m.\u001b[39my\u001b[38;5;241m/\u001b[39m\u001b[38;5;28mself\u001b[39m\u001b[38;5;241m.\u001b[39mx)\u001b[38;5;241m+\u001b[39mmath\u001b[38;5;241m.\u001b[39matan(other\u001b[38;5;241m.\u001b[39my\u001b[38;5;241m/\u001b[39mother\u001b[38;5;241m.\u001b[39mx)\n\n"
     ]
    }
   ],
   "source": [
    "from vector_2d import Vector2D\n",
    "print_python_code(Vector2D)"
   ]
  },
  {
   "cell_type": "markdown",
   "metadata": {},
   "source": [
    "That implementation already contains vector addition, substraction and multiplication (both dot product and scalar multiplication). "
   ]
  },
  {
   "cell_type": "code",
   "execution_count": 11,
   "metadata": {},
   "outputs": [
    {
     "output_type": "stream",
     "name": "stdout",
     "text": [
      "x:4, y:0\nx:0, y:2\n-4\n(4.47213595499958, -0.4636476090008061)\n"
     ]
    }
   ],
   "source": [
    "v1 = Vector2D(2, 0)\n",
    "v2 = Vector2D(-2, 2)\n",
    "print(v1 * 2)\n",
    "print(v1 + v2)\n",
    "print(v1 * v2)\n",
    "print((v1-v2).to_polar())\n",
    "# play around on your own to see what's supprted"
   ]
  },
  {
   "cell_type": "markdown",
   "metadata": {},
   "source": [
    "What's still missing is the devision operator `/` for devisision with a scalar. Without it, the following code for example fails:"
   ]
  },
  {
   "cell_type": "code",
   "execution_count": 12,
   "metadata": {
    "tags": []
   },
   "outputs": [
    {
     "output_type": "execute_result",
     "data": {
      "text/plain": [
       "Vector2D(x:0.0, y:1.0)"
      ]
     },
     "metadata": {},
     "execution_count": 12
    }
   ],
   "source": [
    "v1 = Vector2D(2, 0)\n",
    "v2 = Vector2D(-2, 2)\n",
    "\n",
    "mean = (v1 + v2) / 2\n",
    "mean"
   ]
  },
  {
   "cell_type": "markdown",
   "metadata": {},
   "source": [
    "- To fix this, to implement the `__truediv__` method. Open the file and edit it in VSCode, adding a function\n",
    "\n",
    "``` python\n",
    "def __truediv__(self, other):\n",
    "    ...\n",
    "```\n",
    "\n",
    "- Use this functional to implement a method `normal`, which returns a vector with the same direction, but normalized to unit length\n",
    "- Implement the method `angle_to` to get the angle between two vectors."
   ]
  },
  {
   "cell_type": "code",
   "execution_count": 13,
   "metadata": {},
   "outputs": [
    {
     "output_type": "stream",
     "name": "stderr",
     "text": [
      "test_angle_to (__main__.TestNewVector2D) ... ok\n",
      "test_normal (__main__.TestNewVector2D) ... ok\n",
      "test_truediv (__main__.TestNewVector2D) ... ok\n",
      "\n",
      "----------------------------------------------------------------------\n",
      "Ran 3 tests in 0.005s\n",
      "\n",
      "OK\n"
     ]
    },
    {
     "output_type": "execute_result",
     "data": {
      "text/plain": [
       "<unittest.runner.TextTestResult run=3 errors=0 failures=0>"
      ]
     },
     "metadata": {},
     "execution_count": 13
    }
   ],
   "source": [
    "import math\n",
    "\n",
    "class TestNewVector2D(unittest.TestCase):\n",
    "    \n",
    "    def test_truediv(self):\n",
    "        v = Vector2D(0.5, -4)\n",
    "        self.assertAlmostEqual(v / 2, Vector2D(0.25, -2))\n",
    "    \n",
    "    def test_normal(self):\n",
    "        v = Vector2D(1, 1)\n",
    "        nv = v.normal()\n",
    "        self.assertAlmostEqual(nv, v / math.sqrt(2))\n",
    "        # test old vector is unchanged\n",
    "        self.assertEqual(v, Vector2D(1, 1))\n",
    "    \n",
    "    def test_angle_to(self):\n",
    "        v1 = Vector2D(0.5, 0)\n",
    "        v2 = Vector2D(10, 10)\n",
    "        angle = v1.angle_to(v2)\n",
    "        self.assertAlmostEqual(angle, math.pi/4)\n",
    "        \n",
    "suite = unittest.defaultTestLoader.loadTestsFromTestCase(TestNewVector2D)\n",
    "runner.run(suite)"
   ]
  },
  {
   "cell_type": "markdown",
   "metadata": {},
   "source": [
    "## 3. Simple Inheritance"
   ]
  },
  {
   "cell_type": "markdown",
   "metadata": {},
   "source": [
    "One method to extent existing code without directly editing it, is to _inherit_ a class from it. The _sub-class_ inherits all methods and attributes of the super-class, so we don't have to re-implement or copy-paste the existing code. The syntax for inheritance is\n",
    "``` python\n",
    "class SubClass(SuperClass):\n",
    "```\n",
    "The sub-class is by convention a _specification_ of the more general super-class. This means that all methods that are supported by the super-class should be supported by the sub-class, but the sub-class can implement methods that the super-class doesn't have. A subclass always _is_ also an instance of the super-class."
   ]
  },
  {
   "cell_type": "markdown",
   "metadata": {},
   "source": [
    "Imagine a particle is described by its velocity vector and its mass, but we are not interested in this position. Then, one can represent the particle as sub-class of `Vector2D`. Mind that the `x` and `y` should represent the particle velocity for the purpose of this problem.\n",
    "\n",
    "- Implement an `__init__(self, vx, vy, mass)` method that sets the `x`/`y`-components of the super-class (hint: use `super().__init__`)  and sets the mass property\n",
    "- Impliment `momentum()` and `energy()` methods. The `momentum()` should return an instance of `Vector2D`\n"
   ]
  },
  {
   "cell_type": "code",
   "execution_count": 14,
   "metadata": {},
   "outputs": [],
   "source": [
    "class Particle(Vector2D):\n",
    "    \"\"\"\n",
    "    A particle with velocity and mass but no position. x and y referer to its velocity components.\n",
    "    \"\"\"\n",
    "    def __init__(self, vx, vy , mass):\n",
    "        super().__init__(vx, vy)\n",
    "        self.mass = mass\n",
    "    \n",
    "    def energy(self):\n",
    "        return self.mass*(self.x**2+self.y**2)/2\n",
    "\n",
    "    def momentum(self):\n",
    "        return self*self.mass"
   ]
  },
  {
   "cell_type": "code",
   "execution_count": 15,
   "metadata": {},
   "outputs": [
    {
     "output_type": "stream",
     "name": "stdout",
     "text": [
      "10 10.0 x:10, y:10\n"
     ]
    }
   ],
   "source": [
    "p = Particle(1, 1, 10)\n",
    "print(p.mass, p.energy(), p.momentum())"
   ]
  },
  {
   "cell_type": "code",
   "execution_count": 16,
   "metadata": {},
   "outputs": [
    {
     "output_type": "execute_result",
     "data": {
      "text/plain": [
       "True"
      ]
     },
     "metadata": {},
     "execution_count": 16
    }
   ],
   "source": [
    "isinstance(p, Vector2D)"
   ]
  },
  {
   "cell_type": "code",
   "execution_count": 17,
   "metadata": {},
   "outputs": [
    {
     "output_type": "stream",
     "name": "stderr",
     "text": [
      "test_energy (__main__.TestParticle) ... ok\n",
      "test_init (__main__.TestParticle) ... ok\n",
      "test_is_Vector2D (__main__.TestParticle) ... ok\n",
      "test_momentum (__main__.TestParticle) ... ok\n",
      "\n",
      "----------------------------------------------------------------------\n",
      "Ran 4 tests in 0.006s\n",
      "\n",
      "OK\n"
     ]
    },
    {
     "output_type": "execute_result",
     "data": {
      "text/plain": [
       "<unittest.runner.TextTestResult run=4 errors=0 failures=0>"
      ]
     },
     "metadata": {},
     "execution_count": 17
    }
   ],
   "source": [
    "class TestParticle(unittest.TestCase):\n",
    "    \n",
    "    def test_is_Vector2D(self):\n",
    "        p = Particle(1, 0, 2)\n",
    "        self.assertIsInstance(p, Vector2D)\n",
    "        \n",
    "    def test_init(self):\n",
    "        p = Particle(1, 0, 2)\n",
    "        self.assertAlmostEqual(p.mass, 2)\n",
    "        self.assertAlmostEqual(p.x, 1)\n",
    "        self.assertAlmostEqual(p.y, 0)\n",
    "\n",
    "    \n",
    "    def test_momentum(self):\n",
    "        p = Particle(1, 0, 2)\n",
    "        self.assertEqual(p.momentum(), Vector2D(2, 0))\n",
    "    \n",
    "    def test_energy(self):\n",
    "        p = Particle(1, 0, 2)\n",
    "        self.assertEqual(p.energy(), 1)\n",
    "        \n",
    "        \n",
    "suite = unittest.defaultTestLoader.loadTestsFromTestCase(TestParticle)\n",
    "runner.run(suite)"
   ]
  },
  {
   "cell_type": "markdown",
   "metadata": {},
   "source": [
    "Make sure you get an error if you try to instantiate your rectangle with points for a parallelogram"
   ]
  }
 ],
 "metadata": {
  "kernelspec": {
   "name": "python3710jvsc74a57bd0c7ed0d4505f5c5fddf6a872a700a41494a8e78f563e4faa0d2bb14c1d28b44e1",
   "display_name": "Python 3.7.10 64-bit"
  },
  "language_info": {
   "codemirror_mode": {
    "name": "ipython",
    "version": 3
   },
   "file_extension": ".py",
   "mimetype": "text/x-python",
   "name": "python",
   "nbconvert_exporter": "python",
   "pygments_lexer": "ipython3",
   "version": "3.7.10"
  }
 },
 "nbformat": 4,
 "nbformat_minor": 4
}